{
 "cells": [
  {
   "cell_type": "markdown",
   "id": "a3367438",
   "metadata": {},
   "source": [
    "Assigment : AI Travel agent and expense planner (purpose: Trip planning for any city worldwide)"
   ]
  },
  {
   "cell_type": "markdown",
   "id": "53567363",
   "metadata": {},
   "source": [
    "- Real time weather information\n",
    "- Top attractions and activities\n",
    "- Hotel cost calculation ( per day * total days)\n",
    "- Curreny conversion to user's native currency'\n",
    "- Complete itineray generation\n",
    "- Total expense calculation\n",
    "- generate a summary of the entire output"
   ]
  },
  {
   "cell_type": "markdown",
   "id": "1dce4ba9",
   "metadata": {},
   "source": [
    "user_input \n",
    "\n",
    "search attraction and activity\n",
    "1. search attraction\n",
    "2. specific resturatns\n",
    "3. search activities\n",
    "4. transportation\n",
    "5. search transportation\n",
    "\n",
    "search weather forecasting \n",
    "1. current weather \n",
    "2. get weather forecasting\n",
    "\n",
    "search hotel cost\n",
    "1. search hotel\n",
    "2. hotel cost\n",
    "3. budget_range \n",
    "\n",
    "calclated total cost\n",
    "1. add\n",
    "2. multiply\n",
    "3. calculated total cost\n",
    "4. daily budget for the iternaty\n",
    "\n",
    "currency_conversion\n",
    "\n",
    "1. get exchange rate\n",
    "2. convert currency \n",
    "\n",
    "Iternary generation\n",
    "1. get day plan\n",
    "2. create full iternary\n",
    "\n",
    "Summary\n",
    "1. create trip summary\n",
    "\n",
    "Note: if you know OOPS then design this entire system with object and class in modular fashion\n"
   ]
  },
  {
   "cell_type": "markdown",
   "id": "117e4c6c",
   "metadata": {},
   "source": []
  }
 ],
 "metadata": {
  "kernelspec": {
   "display_name": "langgraph_env",
   "language": "python",
   "name": "python3"
  },
  "language_info": {
   "codemirror_mode": {
    "name": "ipython",
    "version": 3
   },
   "file_extension": ".py",
   "mimetype": "text/x-python",
   "name": "python",
   "nbconvert_exporter": "python",
   "pygments_lexer": "ipython3",
   "version": "3.13.2"
  }
 },
 "nbformat": 4,
 "nbformat_minor": 5
}
