{
 "cells": [
  {
   "cell_type": "markdown",
   "id": "b35aa69b",
   "metadata": {},
   "source": [
    "### Configure the Model"
   ]
  },
  {
   "cell_type": "code",
   "execution_count": 6,
   "id": "dc01f920",
   "metadata": {},
   "outputs": [
    {
     "name": "stdout",
     "output_type": "stream",
     "text": [
      "content=\"I'm just a language model, I don't have emotions or feelings like humans do. However, I'm functioning properly and ready to assist you with any questions or tasks you may have! How can I help you today?\" additional_kwargs={} response_metadata={'token_usage': {'completion_tokens': 46, 'prompt_tokens': 15, 'total_tokens': 61, 'completion_time': 0.083256357, 'prompt_time': 0.003768767, 'queue_time': 0.128422542, 'total_time': 0.087025124}, 'model_name': 'llama3-8b-8192', 'system_fingerprint': 'fp_8b7c3a83f7', 'finish_reason': 'stop', 'logprobs': None} id='run--89544bc3-a6b5-4feb-bf1b-f246941c813b-0' usage_metadata={'input_tokens': 15, 'output_tokens': 46, 'total_tokens': 61}\n"
     ]
    }
   ],
   "source": [
    "from langchain_groq import ChatGroq\n",
    "model = ChatGroq(model=\"llama3-8b-8192\")\n",
    "output = model.invoke(\"Hi, how are you\")\n",
    "print(output)"
   ]
  },
  {
   "cell_type": "markdown",
   "id": "7846102f",
   "metadata": {},
   "source": [
    "### Configure the Embeddings"
   ]
  },
  {
   "cell_type": "code",
   "execution_count": 11,
   "id": "19103564",
   "metadata": {},
   "outputs": [
    {
     "name": "stderr",
     "output_type": "stream",
     "text": [
      "c:\\Users\\Anilchoudary R\\Gitrepos\\langgraph_playground\\langgraph_env\\Lib\\site-packages\\tqdm\\auto.py:21: TqdmWarning: IProgress not found. Please update jupyter and ipywidgets. See https://ipywidgets.readthedocs.io/en/stable/user_install.html\n",
      "  from .autonotebook import tqdm as notebook_tqdm\n",
      "Xet Storage is enabled for this repo, but the 'hf_xet' package is not installed. Falling back to regular HTTP download. For better performance, install the package with: `pip install huggingface_hub[hf_xet]` or `pip install hf_xet`\n"
     ]
    },
    {
     "data": {
      "text/plain": [
       "384"
      ]
     },
     "execution_count": 11,
     "metadata": {},
     "output_type": "execute_result"
    }
   ],
   "source": [
    "from langchain_huggingface import HuggingFaceEmbeddings\n",
    "embeddings = HuggingFaceEmbeddings(model_name=\"BAAI/bge-small-en\")\n",
    "len(embeddings.embed_query(\"HI\"))"
   ]
  },
  {
   "cell_type": "markdown",
   "id": "57d03c73",
   "metadata": {},
   "source": [
    "### Lets take a data embedded and store it in the Vector DB"
   ]
  },
  {
   "cell_type": "code",
   "execution_count": 18,
   "id": "ece734b9",
   "metadata": {},
   "outputs": [],
   "source": [
    "from langchain_community.document_loaders import TextLoader, DirectoryLoader\n",
    "from langchain_community.vectorstores import Chroma\n",
    "from langchain.text_splitter import RecursiveCharacterTextSplitter"
   ]
  },
  {
   "cell_type": "code",
   "execution_count": 25,
   "id": "ccada1f9",
   "metadata": {},
   "outputs": [],
   "source": [
    "## Data Loader\n",
    "loader=DirectoryLoader(\"../data\",glob=\"./*.txt\", loader_cls=TextLoader)"
   ]
  },
  {
   "cell_type": "code",
   "execution_count": 29,
   "id": "7599eaa6",
   "metadata": {},
   "outputs": [
    {
     "data": {
      "text/plain": [
       "[Document(metadata={'source': '..\\\\data\\\\indian_economy.txt'}, page_content=\"The economy of India is a developing mixed economy with a notable public sector in strategic sectors.[52] It is the world's fourth-largest economy by nominal GDP and the third-largest by purchasing power parity (PPP); on a per capita income basis, India ranked 136th by GDP (nominal) and 119th by GDP (PPP).[53] From independence in 1947 until 1991, successive governments followed the Soviet model and promoted protectionist economic policies, with extensive Sovietization, state intervention, demand-side economics, natural resources, bureaucrat-driven enterprises and economic regulation. This is characterised as dirigism, in the form of the Licence Raj.[54][55] The end of the Cold War and an acute balance of payments crisis in 1991 led to the adoption of a broad economic liberalisation in India and indicative planning.[56][57] India has about 1,900 public sector companies,[58] with the Indian state having complete control and ownership of railways and highways. The Indian government has major control over banking,[59] insurance,[60] farming,[61] fertilizers and chemicals,[62] airports,[63] essential utilities.[64] The state also exerts substantial control over digitalization, telecommunication, supercomputing, space, port and shipping industries,[65] which were effectively nationalised in the mid-1950s but has seen the emergence of key corporate players.[54][55][66]\\n\\nNearly 70% of India's GDP is driven by domestic consumption;[67] the country remains the world's fourth-largest consumer market.[68] Aside private consumption, India's GDP is also fueled by government spending, investments, and exports.[69] In 2022, India was the world's 10th-largest importer and the 8th-largest exporter.[70] India has been a member of the World Trade Organization since 1 January 1995.[71] It ranks 63rd on the ease of doing business index and 40th on the Global Competitiveness Index.[72][73] India has one of the world's highest number of billionaires along with extreme income inequality.[74][75] Economists and social scientists often consider India a welfare state.[76][77][78][79] India's overall social welfare spending stood at 8.6% of GDP in 2021-22, which is much lower than the average for OECD nations.[80][81] With 586 million workers, the Indian labour force is the world's second-largest.[18] Despite having one of the longest working hours, India has one of the lowest workforce productivity levels in the world.[82][83][84][85][86] Economists say that due to structural economic problems, India is experiencing jobless economic growth.[87]\\n\\nDuring the Great Recession, the economy faced a mild slowdown. India endorsed Keynesian policy and initiated stimulus measures (both fiscal and monetary) to boost growth and generate demand. In subsequent years, economic growth revived.[88]\\n\\nIn 2021â€“22, the foreign direct investment (FDI) in India was $82 billion. The leading sectors for FDI inflows were the Finance, Banking, Insurance and R&D.[89] India has free trade agreements with several nations and blocs, including ASEAN, SAFTA, Mercosur, South Korea, Japan, Australia, the United Arab Emirates, and several others which are in effect or under negotiating stage.[90][91]\\n\\nThe service sector makes up more than 50% of GDP and remains the fastest growing sector, while the industrial sector and the agricultural sector employs a majority of the labor force.[92] The Bombay Stock Exchange and National Stock Exchange are some of the world's largest stock exchanges by market capitalisation.[93] India is the world's sixth-largest manufacturer, representing 2.6% of global manufacturing output.[94] Nearly 65% of India's population is rural,[95] and contributes about 50% of India's GDP.[96] India faces high unemployment, rising income inequality, and a drop in aggregate demand.[97][98] India's gross domestic savings rate stood at 29.3% of GDP in 2022.[99]\")]"
      ]
     },
     "execution_count": 29,
     "metadata": {},
     "output_type": "execute_result"
    }
   ],
   "source": [
    "docs = loader.load()\n",
    "docs"
   ]
  },
  {
   "cell_type": "code",
   "execution_count": 31,
   "id": "dc396b76",
   "metadata": {},
   "outputs": [
    {
     "data": {
      "text/plain": [
       "\"The economy of India is a developing mixed economy with a notable public sector in strategic sectors.[52] It is the world's fourth-largest economy by nominal GDP and the third-largest by purchasing power parity (PPP); on a per capita income basis, India ranked 136th by GDP (nominal) and 119th by GDP (PPP).[53] From independence in 1947 until 1991, successive governments followed the Soviet model and promoted protectionist economic policies, with extensive Sovietization, state intervention, demand-side economics, natural resources, bureaucrat-driven enterprises and economic regulation. This is characterised as dirigism, in the form of the Licence Raj.[54][55] The end of the Cold War and an acute balance of payments crisis in 1991 led to the adoption of a broad economic liberalisation in India and indicative planning.[56][57] India has about 1,900 public sector companies,[58] with the Indian state having complete control and ownership of railways and highways. The Indian government has major control over banking,[59] insurance,[60] farming,[61] fertilizers and chemicals,[62] airports,[63] essential utilities.[64] The state also exerts substantial control over digitalization, telecommunication, supercomputing, space, port and shipping industries,[65] which were effectively nationalised in the mid-1950s but has seen the emergence of key corporate players.[54][55][66]\\n\\nNearly 70% of India's GDP is driven by domestic consumption;[67] the country remains the world's fourth-largest consumer market.[68] Aside private consumption, India's GDP is also fueled by government spending, investments, and exports.[69] In 2022, India was the world's 10th-largest importer and the 8th-largest exporter.[70] India has been a member of the World Trade Organization since 1 January 1995.[71] It ranks 63rd on the ease of doing business index and 40th on the Global Competitiveness Index.[72][73] India has one of the world's highest number of billionaires along with extreme income inequality.[74][75] Economists and social scientists often consider India a welfare state.[76][77][78][79] India's overall social welfare spending stood at 8.6% of GDP in 2021-22, which is much lower than the average for OECD nations.[80][81] With 586 million workers, the Indian labour force is the world's second-largest.[18] Despite having one of the longest working hours, India has one of the lowest workforce productivity levels in the world.[82][83][84][85][86] Economists say that due to structural economic problems, India is experiencing jobless economic growth.[87]\\n\\nDuring the Great Recession, the economy faced a mild slowdown. India endorsed Keynesian policy and initiated stimulus measures (both fiscal and monetary) to boost growth and generate demand. In subsequent years, economic growth revived.[88]\\n\\nIn 2021â€“22, the foreign direct investment (FDI) in India was $82 billion. The leading sectors for FDI inflows were the Finance, Banking, Insurance and R&D.[89] India has free trade agreements with several nations and blocs, including ASEAN, SAFTA, Mercosur, South Korea, Japan, Australia, the United Arab Emirates, and several others which are in effect or under negotiating stage.[90][91]\\n\\nThe service sector makes up more than 50% of GDP and remains the fastest growing sector, while the industrial sector and the agricultural sector employs a majority of the labor force.[92] The Bombay Stock Exchange and National Stock Exchange are some of the world's largest stock exchanges by market capitalisation.[93] India is the world's sixth-largest manufacturer, representing 2.6% of global manufacturing output.[94] Nearly 65% of India's population is rural,[95] and contributes about 50% of India's GDP.[96] India faces high unemployment, rising income inequality, and a drop in aggregate demand.[97][98] India's gross domestic savings rate stood at 29.3% of GDP in 2022.[99]\""
      ]
     },
     "execution_count": 31,
     "metadata": {},
     "output_type": "execute_result"
    }
   ],
   "source": [
    "docs[0].page_content"
   ]
  },
  {
   "cell_type": "code",
   "execution_count": 34,
   "id": "65621cb5",
   "metadata": {},
   "outputs": [],
   "source": [
    "## Chunking data \n",
    "text_splitter = RecursiveCharacterTextSplitter(\n",
    "    chunk_size=200,\n",
    "    chunk_overlap=50\n",
    ")\n"
   ]
  },
  {
   "cell_type": "code",
   "execution_count": 37,
   "id": "c63b9542",
   "metadata": {},
   "outputs": [],
   "source": [
    "new_docs =text_splitter.split_documents(documents=docs)"
   ]
  },
  {
   "cell_type": "code",
   "execution_count": 40,
   "id": "4a5b9ba4",
   "metadata": {},
   "outputs": [
    {
     "data": {
      "text/plain": [
       "[Document(metadata={'source': '..\\\\data\\\\indian_economy.txt'}, page_content=\"The economy of India is a developing mixed economy with a notable public sector in strategic sectors.[52] It is the world's fourth-largest economy by nominal GDP and the third-largest by purchasing\"),\n",
       " Document(metadata={'source': '..\\\\data\\\\indian_economy.txt'}, page_content='nominal GDP and the third-largest by purchasing power parity (PPP); on a per capita income basis, India ranked 136th by GDP (nominal) and 119th by GDP (PPP).[53] From independence in 1947 until 1991,'),\n",
       " Document(metadata={'source': '..\\\\data\\\\indian_economy.txt'}, page_content='(PPP).[53] From independence in 1947 until 1991, successive governments followed the Soviet model and promoted protectionist economic policies, with extensive Sovietization, state intervention,'),\n",
       " Document(metadata={'source': '..\\\\data\\\\indian_economy.txt'}, page_content='with extensive Sovietization, state intervention, demand-side economics, natural resources, bureaucrat-driven enterprises and economic regulation. This is characterised as dirigism, in the form of'),\n",
       " Document(metadata={'source': '..\\\\data\\\\indian_economy.txt'}, page_content='This is characterised as dirigism, in the form of the Licence Raj.[54][55] The end of the Cold War and an acute balance of payments crisis in 1991 led to the adoption of a broad economic'),\n",
       " Document(metadata={'source': '..\\\\data\\\\indian_economy.txt'}, page_content='in 1991 led to the adoption of a broad economic liberalisation in India and indicative planning.[56][57] India has about 1,900 public sector companies,[58] with the Indian state having complete'),\n",
       " Document(metadata={'source': '..\\\\data\\\\indian_economy.txt'}, page_content='with the Indian state having complete control and ownership of railways and highways. The Indian government has major control over banking,[59] insurance,[60] farming,[61] fertilizers and'),\n",
       " Document(metadata={'source': '..\\\\data\\\\indian_economy.txt'}, page_content='insurance,[60] farming,[61] fertilizers and chemicals,[62] airports,[63] essential utilities.[64] The state also exerts substantial control over digitalization, telecommunication, supercomputing,'),\n",
       " Document(metadata={'source': '..\\\\data\\\\indian_economy.txt'}, page_content='telecommunication, supercomputing, space, port and shipping industries,[65] which were effectively nationalised in the mid-1950s but has seen the emergence of key corporate players.[54][55][66]'),\n",
       " Document(metadata={'source': '..\\\\data\\\\indian_economy.txt'}, page_content=\"Nearly 70% of India's GDP is driven by domestic consumption;[67] the country remains the world's fourth-largest consumer market.[68] Aside private consumption, India's GDP is also fueled by\"),\n",
       " Document(metadata={'source': '..\\\\data\\\\indian_economy.txt'}, page_content=\"consumption, India's GDP is also fueled by government spending, investments, and exports.[69] In 2022, India was the world's 10th-largest importer and the 8th-largest exporter.[70] India has been a\"),\n",
       " Document(metadata={'source': '..\\\\data\\\\indian_economy.txt'}, page_content='the 8th-largest exporter.[70] India has been a member of the World Trade Organization since 1 January 1995.[71] It ranks 63rd on the ease of doing business index and 40th on the Global'),\n",
       " Document(metadata={'source': '..\\\\data\\\\indian_economy.txt'}, page_content=\"of doing business index and 40th on the Global Competitiveness Index.[72][73] India has one of the world's highest number of billionaires along with extreme income inequality.[74][75] Economists and\"),\n",
       " Document(metadata={'source': '..\\\\data\\\\indian_economy.txt'}, page_content=\"extreme income inequality.[74][75] Economists and social scientists often consider India a welfare state.[76][77][78][79] India's overall social welfare spending stood at 8.6% of GDP in 2021-22,\"),\n",
       " Document(metadata={'source': '..\\\\data\\\\indian_economy.txt'}, page_content=\"welfare spending stood at 8.6% of GDP in 2021-22, which is much lower than the average for OECD nations.[80][81] With 586 million workers, the Indian labour force is the world's second-largest.[18]\"),\n",
       " Document(metadata={'source': '..\\\\data\\\\indian_economy.txt'}, page_content=\"labour force is the world's second-largest.[18] Despite having one of the longest working hours, India has one of the lowest workforce productivity levels in the world.[82][83][84][85][86] Economists\"),\n",
       " Document(metadata={'source': '..\\\\data\\\\indian_economy.txt'}, page_content='in the world.[82][83][84][85][86] Economists say that due to structural economic problems, India is experiencing jobless economic growth.[87]'),\n",
       " Document(metadata={'source': '..\\\\data\\\\indian_economy.txt'}, page_content='During the Great Recession, the economy faced a mild slowdown. India endorsed Keynesian policy and initiated stimulus measures (both fiscal and monetary) to boost growth and generate demand. In'),\n",
       " Document(metadata={'source': '..\\\\data\\\\indian_economy.txt'}, page_content='monetary) to boost growth and generate demand. In subsequent years, economic growth revived.[88]'),\n",
       " Document(metadata={'source': '..\\\\data\\\\indian_economy.txt'}, page_content='In 2021â€“22, the foreign direct investment (FDI) in India was $82 billion. The leading sectors for FDI inflows were the Finance, Banking, Insurance and R&D.[89] India has free trade agreements with'),\n",
       " Document(metadata={'source': '..\\\\data\\\\indian_economy.txt'}, page_content='and R&D.[89] India has free trade agreements with several nations and blocs, including ASEAN, SAFTA, Mercosur, South Korea, Japan, Australia, the United Arab Emirates, and several others which are in'),\n",
       " Document(metadata={'source': '..\\\\data\\\\indian_economy.txt'}, page_content='Arab Emirates, and several others which are in effect or under negotiating stage.[90][91]'),\n",
       " Document(metadata={'source': '..\\\\data\\\\indian_economy.txt'}, page_content='The service sector makes up more than 50% of GDP and remains the fastest growing sector, while the industrial sector and the agricultural sector employs a majority of the labor force.[92] The Bombay'),\n",
       " Document(metadata={'source': '..\\\\data\\\\indian_economy.txt'}, page_content=\"a majority of the labor force.[92] The Bombay Stock Exchange and National Stock Exchange are some of the world's largest stock exchanges by market capitalisation.[93] India is the world's\"),\n",
       " Document(metadata={'source': '..\\\\data\\\\indian_economy.txt'}, page_content=\"market capitalisation.[93] India is the world's sixth-largest manufacturer, representing 2.6% of global manufacturing output.[94] Nearly 65% of India's population is rural,[95] and contributes about\"),\n",
       " Document(metadata={'source': '..\\\\data\\\\indian_economy.txt'}, page_content=\"population is rural,[95] and contributes about 50% of India's GDP.[96] India faces high unemployment, rising income inequality, and a drop in aggregate demand.[97][98] India's gross domestic savings\"),\n",
       " Document(metadata={'source': '..\\\\data\\\\indian_economy.txt'}, page_content=\"demand.[97][98] India's gross domestic savings rate stood at 29.3% of GDP in 2022.[99]\")]"
      ]
     },
     "execution_count": 40,
     "metadata": {},
     "output_type": "execute_result"
    }
   ],
   "source": [
    "new_docs"
   ]
  },
  {
   "cell_type": "code",
   "execution_count": 43,
   "id": "14653987",
   "metadata": {},
   "outputs": [
    {
     "data": {
      "text/plain": [
       "[\"The economy of India is a developing mixed economy with a notable public sector in strategic sectors.[52] It is the world's fourth-largest economy by nominal GDP and the third-largest by purchasing\",\n",
       " 'nominal GDP and the third-largest by purchasing power parity (PPP); on a per capita income basis, India ranked 136th by GDP (nominal) and 119th by GDP (PPP).[53] From independence in 1947 until 1991,',\n",
       " '(PPP).[53] From independence in 1947 until 1991, successive governments followed the Soviet model and promoted protectionist economic policies, with extensive Sovietization, state intervention,',\n",
       " 'with extensive Sovietization, state intervention, demand-side economics, natural resources, bureaucrat-driven enterprises and economic regulation. This is characterised as dirigism, in the form of',\n",
       " 'This is characterised as dirigism, in the form of the Licence Raj.[54][55] The end of the Cold War and an acute balance of payments crisis in 1991 led to the adoption of a broad economic',\n",
       " 'in 1991 led to the adoption of a broad economic liberalisation in India and indicative planning.[56][57] India has about 1,900 public sector companies,[58] with the Indian state having complete',\n",
       " 'with the Indian state having complete control and ownership of railways and highways. The Indian government has major control over banking,[59] insurance,[60] farming,[61] fertilizers and',\n",
       " 'insurance,[60] farming,[61] fertilizers and chemicals,[62] airports,[63] essential utilities.[64] The state also exerts substantial control over digitalization, telecommunication, supercomputing,',\n",
       " 'telecommunication, supercomputing, space, port and shipping industries,[65] which were effectively nationalised in the mid-1950s but has seen the emergence of key corporate players.[54][55][66]',\n",
       " \"Nearly 70% of India's GDP is driven by domestic consumption;[67] the country remains the world's fourth-largest consumer market.[68] Aside private consumption, India's GDP is also fueled by\",\n",
       " \"consumption, India's GDP is also fueled by government spending, investments, and exports.[69] In 2022, India was the world's 10th-largest importer and the 8th-largest exporter.[70] India has been a\",\n",
       " 'the 8th-largest exporter.[70] India has been a member of the World Trade Organization since 1 January 1995.[71] It ranks 63rd on the ease of doing business index and 40th on the Global',\n",
       " \"of doing business index and 40th on the Global Competitiveness Index.[72][73] India has one of the world's highest number of billionaires along with extreme income inequality.[74][75] Economists and\",\n",
       " \"extreme income inequality.[74][75] Economists and social scientists often consider India a welfare state.[76][77][78][79] India's overall social welfare spending stood at 8.6% of GDP in 2021-22,\",\n",
       " \"welfare spending stood at 8.6% of GDP in 2021-22, which is much lower than the average for OECD nations.[80][81] With 586 million workers, the Indian labour force is the world's second-largest.[18]\",\n",
       " \"labour force is the world's second-largest.[18] Despite having one of the longest working hours, India has one of the lowest workforce productivity levels in the world.[82][83][84][85][86] Economists\",\n",
       " 'in the world.[82][83][84][85][86] Economists say that due to structural economic problems, India is experiencing jobless economic growth.[87]',\n",
       " 'During the Great Recession, the economy faced a mild slowdown. India endorsed Keynesian policy and initiated stimulus measures (both fiscal and monetary) to boost growth and generate demand. In',\n",
       " 'monetary) to boost growth and generate demand. In subsequent years, economic growth revived.[88]',\n",
       " 'In 2021â€“22, the foreign direct investment (FDI) in India was $82 billion. The leading sectors for FDI inflows were the Finance, Banking, Insurance and R&D.[89] India has free trade agreements with',\n",
       " 'and R&D.[89] India has free trade agreements with several nations and blocs, including ASEAN, SAFTA, Mercosur, South Korea, Japan, Australia, the United Arab Emirates, and several others which are in',\n",
       " 'Arab Emirates, and several others which are in effect or under negotiating stage.[90][91]',\n",
       " 'The service sector makes up more than 50% of GDP and remains the fastest growing sector, while the industrial sector and the agricultural sector employs a majority of the labor force.[92] The Bombay',\n",
       " \"a majority of the labor force.[92] The Bombay Stock Exchange and National Stock Exchange are some of the world's largest stock exchanges by market capitalisation.[93] India is the world's\",\n",
       " \"market capitalisation.[93] India is the world's sixth-largest manufacturer, representing 2.6% of global manufacturing output.[94] Nearly 65% of India's population is rural,[95] and contributes about\",\n",
       " \"population is rural,[95] and contributes about 50% of India's GDP.[96] India faces high unemployment, rising income inequality, and a drop in aggregate demand.[97][98] India's gross domestic savings\",\n",
       " \"demand.[97][98] India's gross domestic savings rate stood at 29.3% of GDP in 2022.[99]\"]"
      ]
     },
     "execution_count": 43,
     "metadata": {},
     "output_type": "execute_result"
    }
   ],
   "source": [
    "doc_string = [doc.page_content for doc in new_docs]\n",
    "doc_string"
   ]
  },
  {
   "cell_type": "code",
   "execution_count": 44,
   "id": "aade4fc6",
   "metadata": {},
   "outputs": [
    {
     "data": {
      "text/plain": [
       "27"
      ]
     },
     "execution_count": 44,
     "metadata": {},
     "output_type": "execute_result"
    }
   ],
   "source": [
    "len(doc_string)"
   ]
  },
  {
   "cell_type": "code",
   "execution_count": null,
   "id": "cddcbb53",
   "metadata": {},
   "outputs": [],
   "source": []
  }
 ],
 "metadata": {
  "kernelspec": {
   "display_name": "langgraph_env",
   "language": "python",
   "name": "python3"
  },
  "language_info": {
   "codemirror_mode": {
    "name": "ipython",
    "version": 3
   },
   "file_extension": ".py",
   "mimetype": "text/x-python",
   "name": "python",
   "nbconvert_exporter": "python",
   "pygments_lexer": "ipython3",
   "version": "3.13.2"
  }
 },
 "nbformat": 4,
 "nbformat_minor": 5
}
