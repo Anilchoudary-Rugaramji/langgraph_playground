{
 "cells": [
  {
   "cell_type": "code",
   "execution_count": null,
   "id": "bd806b36",
   "metadata": {},
   "outputs": [],
   "source": [
    "from dotenv import load_dotenv\n",
    "import os\n",
    "load_dotenv()\n",
    "import os\n",
    "os.environ[\"GOOGLE_API_KEY\"] = \"\"\n",
    "\n"
   ]
  },
  {
   "cell_type": "code",
   "execution_count": 33,
   "id": "9e002627",
   "metadata": {},
   "outputs": [
    {
     "name": "stdout",
     "output_type": "stream",
     "text": [
      "I cannot provide the exact, real-time stock price for Google (Alphabet Inc.).  Stock prices change constantly.\n",
      "\n",
      "To find the most up-to-the-minute price, you should check a reputable financial website such as:\n",
      "\n",
      "* **Google Finance:**  Just search \"Google stock\" on Google.\n",
      "* **Yahoo Finance:**  Search for GOOGL (Alphabet Class A) or GOOG (Alphabet Class C) on Yahoo Finance.\n",
      "* **Bloomberg:**  Bloomberg provides in-depth financial data, but may require a subscription.\n",
      "* **Your brokerage account:** If you have an online brokerage account, the current price will be displayed there.\n",
      "\n",
      "\n",
      "Remember that the stock ticker symbols are usually GOOGL (for Alphabet Class A shares) and GOOG (for Alphabet Class C shares).  Make sure you're looking at the correct one.\n"
     ]
    }
   ],
   "source": [
    "from langchain_google_genai import ChatGoogleGenerativeAI\n",
    "\n",
    "llm = ChatGoogleGenerativeAI(\n",
    "    model=\"gemini-1.5-flash\", \n",
    "    temperature=0\n",
    ")\n",
    "\n",
    "response = llm.invoke(\"What is the lateest stock price of Google?\")\n",
    "print(response.content)\n"
   ]
  },
  {
   "cell_type": "markdown",
   "id": "6f1dbbb6",
   "metadata": {},
   "source": [
    "#### Below are custom tools"
   ]
  },
  {
   "cell_type": "code",
   "execution_count": 34,
   "id": "59ef115c",
   "metadata": {},
   "outputs": [],
   "source": [
    "from langchain.tools import tool"
   ]
  },
  {
   "cell_type": "code",
   "execution_count": null,
   "id": "eadadf96",
   "metadata": {},
   "outputs": [],
   "source": [
    "@tool\n",
    "def multiply(a: int, b:int)->int:\n",
    "    \"\"\"function to multiply\"\"\"\n",
    "    return a*b"
   ]
  },
  {
   "cell_type": "code",
   "execution_count": null,
   "id": "fe703547",
   "metadata": {},
   "outputs": [],
   "source": [
    "@tool\n",
    "def add(a: int, b:int)->int:\n",
    "    \"\"\" function to add\"\"\"\n",
    "    return a+b\n"
   ]
  },
  {
   "cell_type": "code",
   "execution_count": 51,
   "id": "48b39cab",
   "metadata": {},
   "outputs": [],
   "source": [
    "@tool\n",
    "def divide(a:int, b:int)->float:\n",
    "    \"\"\"tool to divide\"\"\"\n",
    "    if b==0:\n",
    "        raise ValueError(\"Denominator cannot be zero\")\n",
    "    return a/b"
   ]
  },
  {
   "cell_type": "markdown",
   "id": "1549aa5f",
   "metadata": {},
   "source": [
    "#### Below is the inbuilt tool"
   ]
  },
  {
   "cell_type": "code",
   "execution_count": 42,
   "id": "20bf1ded",
   "metadata": {},
   "outputs": [],
   "source": [
    "from langchain_community.tools import DuckDuckGoSearchRun # duckduckgo gives summary of the result where tavly gices raw result"
   ]
  },
  {
   "cell_type": "code",
   "execution_count": 49,
   "id": "e7d729e6",
   "metadata": {},
   "outputs": [
    {
     "data": {
      "text/plain": [
       "\"IPL 2025, PBKS vs RCB Match Report: An 18-year wait for a first trophy ended on Tuesday night thanks to key contributions from Krunal Pandya and Bhuvneshwar Kumar RCB are IPL 2025 champions! After 18 long years, Royal Challengers Bangalore lift their first IPL trophy in a thrilling, emotional victory. RCB triumphed in IPL 2025, beating Punjab Kings by six runs in the final. Bengaluru scored 190/9, while Punjab fell short at 184/7 at Ahmedabad. Royal Challengers Bengaluru defeated Punjab Kings in a thrilling IPL 2025 final. RCB secured their first-ever IPL title after an 18-year wait. The match went down to the wire, with RCB winning by 6 runs. Krunal Pandya was named Man of the Match for his economical bowling. Shashank Singh's brilliant knock went in vain. Royal Challengers Bengaluru (RCB) clinched the IPL 2025 title, ending an 11-year wait to become champions in the 18th TATA IPL edition. Explore their stellar team performance, key players, and ...\""
      ]
     },
     "execution_count": 49,
     "metadata": {},
     "output_type": "execute_result"
    }
   ],
   "source": [
    "search = DuckDuckGoSearchRun()\n",
    "search.invoke(\"Tell me who won IPL 2025\")"
   ]
  },
  {
   "cell_type": "code",
   "execution_count": 50,
   "id": "4870f01c",
   "metadata": {},
   "outputs": [],
   "source": [
    "tools=[multiply, add, divide, search]"
   ]
  },
  {
   "cell_type": "code",
   "execution_count": 52,
   "id": "a89c059e",
   "metadata": {},
   "outputs": [],
   "source": [
    "llm_with_tools = llm.bind_tools(tools)"
   ]
  },
  {
   "cell_type": "code",
   "execution_count": null,
   "id": "cafde778",
   "metadata": {},
   "outputs": [
    {
     "data": {
      "text/plain": [
       "AIMessage(content='Hello! How can I help you today?', additional_kwargs={}, response_metadata={'prompt_feedback': {'block_reason': 0, 'safety_ratings': []}, 'finish_reason': 'STOP', 'model_name': 'gemini-1.5-flash', 'safety_ratings': []}, id='run--23201693-0a7b-48b5-b277-6c8a43f79cf1-0', usage_metadata={'input_tokens': 75, 'output_tokens': 10, 'total_tokens': 85, 'input_token_details': {'cache_read': 0}})"
      ]
     },
     "execution_count": 53,
     "metadata": {},
     "output_type": "execute_result"
    }
   ],
   "source": [
    "response = llm_with_tools.invoke(\"Hi\")"
   ]
  },
  {
   "cell_type": "code",
   "execution_count": 54,
   "id": "6b58cf99",
   "metadata": {},
   "outputs": [
    {
     "data": {
      "text/plain": [
       "'I cannot provide the exact, real-time stock price for Google (Alphabet Inc.).  Stock prices change constantly.\\n\\nTo find the most up-to-the-minute price, you should check a reputable financial website such as:\\n\\n* **Google Finance:**  Just search \"Google stock\" on Google.\\n* **Yahoo Finance:**  Search for GOOGL (Alphabet Class A) or GOOG (Alphabet Class C) on Yahoo Finance.\\n* **Bloomberg:**  Bloomberg provides in-depth financial data, but may require a subscription.\\n* **Your brokerage account:** If you have an online brokerage account, the current price will be displayed there.\\n\\n\\nRemember that the stock ticker symbols are usually GOOGL (for Alphabet Class A shares) and GOOG (for Alphabet Class C shares).  Make sure you\\'re looking at the correct one.'"
      ]
     },
     "execution_count": 54,
     "metadata": {},
     "output_type": "execute_result"
    }
   ],
   "source": [
    "response.content"
   ]
  },
  {
   "cell_type": "code",
   "execution_count": 55,
   "id": "a36ea9b9",
   "metadata": {},
   "outputs": [
    {
     "data": {
      "text/plain": [
       "[]"
      ]
     },
     "execution_count": 55,
     "metadata": {},
     "output_type": "execute_result"
    }
   ],
   "source": [
    "response.tool_calls"
   ]
  },
  {
   "cell_type": "code",
   "execution_count": 58,
   "id": "71c310fe",
   "metadata": {},
   "outputs": [],
   "source": [
    "response = llm_with_tools.invoke(\"Hi, can you add two numbers like 5 and 10\")"
   ]
  },
  {
   "cell_type": "code",
   "execution_count": 59,
   "id": "c2ebab94",
   "metadata": {},
   "outputs": [
    {
     "data": {
      "text/plain": [
       "''"
      ]
     },
     "execution_count": 59,
     "metadata": {},
     "output_type": "execute_result"
    }
   ],
   "source": [
    "response.content"
   ]
  },
  {
   "cell_type": "code",
   "execution_count": 60,
   "id": "f37427e6",
   "metadata": {},
   "outputs": [
    {
     "data": {
      "text/plain": [
       "[{'name': 'add',\n",
       "  'args': {'a': 5.0, 'b': 10.0},\n",
       "  'id': '06d6d74c-4e0f-4f2b-a3d4-65d693ab2363',\n",
       "  'type': 'tool_call'}]"
      ]
     },
     "execution_count": 60,
     "metadata": {},
     "output_type": "execute_result"
    }
   ],
   "source": [
    "response.tool_calls"
   ]
  },
  {
   "cell_type": "code",
   "execution_count": 63,
   "id": "3ddfd4fe",
   "metadata": {},
   "outputs": [],
   "source": [
    "response = llm_with_tools.invoke(\"Can you  tell me what is weather today in ahaus, germany\")"
   ]
  },
  {
   "cell_type": "code",
   "execution_count": 64,
   "id": "3f627160",
   "metadata": {},
   "outputs": [
    {
     "data": {
      "text/plain": [
       "'I am sorry, I cannot fulfill this request. The available tools lack the functionality to access real-time weather information.'"
      ]
     },
     "execution_count": 64,
     "metadata": {},
     "output_type": "execute_result"
    }
   ],
   "source": [
    "response.content"
   ]
  },
  {
   "cell_type": "code",
   "execution_count": 62,
   "id": "8d6931ad",
   "metadata": {},
   "outputs": [
    {
     "data": {
      "text/plain": [
       "[]"
      ]
     },
     "execution_count": 62,
     "metadata": {},
     "output_type": "execute_result"
    }
   ],
   "source": [
    "response.tool_calls"
   ]
  },
  {
   "cell_type": "code",
   "execution_count": 67,
   "id": "b43a13da",
   "metadata": {},
   "outputs": [],
   "source": [
    "response = llm_with_tools.invoke(\"what is the current age of TATA Group\")"
   ]
  },
  {
   "cell_type": "code",
   "execution_count": 68,
   "id": "6f7efc22",
   "metadata": {},
   "outputs": [
    {
     "data": {
      "text/plain": [
       "'I cannot directly answer this question.  I do not have access to real-time information, including the current age of a company like the Tata Group.  To find this information, I suggest searching online using a search engine like Google, DuckDuckGo, or Bing.'"
      ]
     },
     "execution_count": 68,
     "metadata": {},
     "output_type": "execute_result"
    }
   ],
   "source": [
    "response.content"
   ]
  },
  {
   "cell_type": "code",
   "execution_count": 69,
   "id": "12cd9df8",
   "metadata": {},
   "outputs": [
    {
     "data": {
      "text/plain": [
       "[]"
      ]
     },
     "execution_count": 69,
     "metadata": {},
     "output_type": "execute_result"
    }
   ],
   "source": [
    "response.tool_calls"
   ]
  },
  {
   "cell_type": "code",
   "execution_count": 119,
   "id": "a8e13737",
   "metadata": {},
   "outputs": [],
   "source": [
    "from langgraph.graph import StateGraph, MessagesState, END, START\n",
    "from langchain_core.messages import HumanMessage, SystemMessage\n",
    "from langgraph.prebuilt import ToolNode, tools_condition"
   ]
  },
  {
   "cell_type": "code",
   "execution_count": 120,
   "id": "6c354081",
   "metadata": {},
   "outputs": [],
   "source": [
    "state = StateGraph(MessagesState)"
   ]
  },
  {
   "cell_type": "code",
   "execution_count": 129,
   "id": "c75ad1a9",
   "metadata": {},
   "outputs": [],
   "source": [
    "def function_1(MessagesState):\n",
    "    llm = ChatGoogleGenerativeAI(\n",
    "    model=\"gemini-1.5-flash\", \n",
    "    temperature=0\n",
    "    )\n",
    "    response = llm.invoke(MessagesState[-1])\n",
    "    return response"
   ]
  },
  {
   "cell_type": "code",
   "execution_count": 122,
   "id": "78a9f8c4",
   "metadata": {},
   "outputs": [
    {
     "data": {
      "text/plain": [
       "<langgraph.graph.state.StateGraph at 0x169e6d0f9d0>"
      ]
     },
     "execution_count": 122,
     "metadata": {},
     "output_type": "execute_result"
    }
   ],
   "source": [
    "state.add_node(\"supervisor\", function_1)"
   ]
  },
  {
   "cell_type": "code",
   "execution_count": 123,
   "id": "0ad48132",
   "metadata": {},
   "outputs": [
    {
     "data": {
      "text/plain": [
       "<langgraph.graph.state.StateGraph at 0x169e6d0f9d0>"
      ]
     },
     "execution_count": 123,
     "metadata": {},
     "output_type": "execute_result"
    }
   ],
   "source": [
    "state.add_node(\"tools\", ToolNode(tools))"
   ]
  },
  {
   "cell_type": "code",
   "execution_count": 124,
   "id": "afcfa343",
   "metadata": {},
   "outputs": [
    {
     "data": {
      "text/plain": [
       "<langgraph.graph.state.StateGraph at 0x169e6d0f9d0>"
      ]
     },
     "execution_count": 124,
     "metadata": {},
     "output_type": "execute_result"
    }
   ],
   "source": [
    "state.add_edge(START, \"supervisor\")"
   ]
  },
  {
   "cell_type": "code",
   "execution_count": 125,
   "id": "e53f49d1",
   "metadata": {},
   "outputs": [
    {
     "data": {
      "text/plain": [
       "<langgraph.graph.state.StateGraph at 0x169e6d0f9d0>"
      ]
     },
     "execution_count": 125,
     "metadata": {},
     "output_type": "execute_result"
    }
   ],
   "source": [
    "state.add_conditional_edges(\"supervisor\",\n",
    "                            tools_condition)"
   ]
  },
  {
   "cell_type": "code",
   "execution_count": 126,
   "id": "872ed0d8",
   "metadata": {},
   "outputs": [
    {
     "data": {
      "text/plain": [
       "<langgraph.graph.state.StateGraph at 0x169e6d0f9d0>"
      ]
     },
     "execution_count": 126,
     "metadata": {},
     "output_type": "execute_result"
    }
   ],
   "source": [
    "state.add_edge(\"tools\", \"supervisor\")"
   ]
  },
  {
   "cell_type": "code",
   "execution_count": 127,
   "id": "33040906",
   "metadata": {},
   "outputs": [],
   "source": [
    "react_graph = state.compile()"
   ]
  },
  {
   "cell_type": "code",
   "execution_count": 128,
   "id": "7226ddb9",
   "metadata": {},
   "outputs": [
    {
     "data": {
      "image/png": "[encoded data removed]",
      "text/plain": [
       "<IPython.core.display.Image object>"
      ]
     },
     "metadata": {},
     "output_type": "display_data"
    }
   ],
   "source": [
    "from IPython.display import Image, display\n",
    "display(Image(react_graph.get_graph().draw_mermaid_png()))"
   ]
  },
  {
   "cell_type": "code",
   "execution_count": null,
   "id": "ea90f8e5",
   "metadata": {},
   "outputs": [],
   "source": []
  },
  {
   "cell_type": "code",
   "execution_count": null,
   "id": "8cf593b4",
   "metadata": {},
   "outputs": [],
   "source": []
  }
 ],
 "metadata": {
  "kernelspec": {
   "display_name": "langgraph_env",
   "language": "python",
   "name": "python3"
  },
  "language_info": {
   "codemirror_mode": {
    "name": "ipython",
    "version": 3
   },
   "file_extension": ".py",
   "mimetype": "text/x-python",
   "name": "python",
   "nbconvert_exporter": "python",
   "pygments_lexer": "ipython3",
   "version": "3.13.2"
  }
 },
 "nbformat": 4,
 "nbformat_minor": 5
}
