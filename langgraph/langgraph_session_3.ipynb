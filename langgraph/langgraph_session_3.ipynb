{
 "cells": [
  {
   "cell_type": "code",
   "execution_count": 3,
   "id": "3540527c",
   "metadata": {},
   "outputs": [
    {
     "data": {
      "text/plain": [
       "'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'"
      ]
     },
     "execution_count": 3,
     "metadata": {},
     "output_type": "execute_result"
    }
   ],
   "source": [
    "import os\n",
    "os.getenv(\"GROQ_API_KEY\")"
   ]
  },
  {
   "cell_type": "code",
   "execution_count": 6,
   "id": "760b3d0c",
   "metadata": {},
   "outputs": [],
   "source": [
    "from dotenv import load_dotenv\n",
    "load_dotenv()\n",
    "os.environ['GROQ_API_KEY'] = os.getenv(\"GROQ_API_KEY\")"
   ]
  },
  {
   "cell_type": "code",
   "execution_count": 9,
   "id": "83e9366b",
   "metadata": {},
   "outputs": [
    {
     "name": "stdout",
     "output_type": "stream",
     "text": [
      "content=\"<think>\\n\\n</think>\\n\\nHi! I'm just a virtual assistant, so I don't have feelings, but I'm here and ready to help you with whatever you need. How are you doing? 😊\" additional_kwargs={} response_metadata={'token_usage': {'completion_tokens': 42, 'prompt_tokens': 8, 'total_tokens': 50, 'completion_time': 0.192073741, 'prompt_time': 0.000154178, 'queue_time': 0.09490871299999999, 'total_time': 0.192227919}, 'model_name': 'deepseek-r1-distill-llama-70b', 'system_fingerprint': 'fp_1bbe7845ec', 'finish_reason': 'stop', 'logprobs': None} id='run--b6aaa76a-a686-4f2a-b670-9515d8d5b145-0' usage_metadata={'input_tokens': 8, 'output_tokens': 42, 'total_tokens': 50}\n"
     ]
    }
   ],
   "source": [
    "from langchain_groq import ChatGroq\n",
    "llm_model= \"deepseek-r1-distill-llama-70b\"\n",
    "model = ChatGroq(model=llm_model)\n",
    "output = model.invoke(\"Hi, how are you\")\n",
    "print(output)"
   ]
  },
  {
   "cell_type": "code",
   "execution_count": 16,
   "id": "91eb73a6",
   "metadata": {},
   "outputs": [],
   "source": [
    "import operator \n",
    "from typing import List\n",
    "from langchain_core.tools import tool\n",
    "from pydantic import BaseModel, Field\n",
    "from typing import TypedDict, Annotated, Sequence\n",
    "from langgraph.graph import StateGraph, MessagesState, START, END"
   ]
  },
  {
   "cell_type": "code",
   "execution_count": 69,
   "id": "a0831b4c",
   "metadata": {},
   "outputs": [],
   "source": [
    "def call_model(state: MessagesState):\n",
    "    message = state[\"messages\"]\n",
    "    response = model.invoke(message)\n",
    "    return {\"messages\": [response]}"
   ]
  },
  {
   "cell_type": "code",
   "execution_count": 79,
   "id": "93e4ea00",
   "metadata": {},
   "outputs": [],
   "source": [
    "state = {\n",
    "    \"messages\": [\n",
    "        \"Hi, How are you\"\n",
    "    ]\n",
    "}\n",
    "\n"
   ]
  },
  {
   "cell_type": "code",
   "execution_count": 80,
   "id": "fcd5951f",
   "metadata": {},
   "outputs": [],
   "source": [
    "workflow = StateGraph(MessagesState)\n"
   ]
  },
  {
   "cell_type": "code",
   "execution_count": 81,
   "id": "ef09ca86",
   "metadata": {},
   "outputs": [
    {
     "data": {
      "text/plain": [
       "<langgraph.graph.state.StateGraph at 0x20101ecfed0>"
      ]
     },
     "execution_count": 81,
     "metadata": {},
     "output_type": "execute_result"
    }
   ],
   "source": [
    "workflow.add_node(\"mybot\", call_model)"
   ]
  },
  {
   "cell_type": "code",
   "execution_count": 82,
   "id": "509118ae",
   "metadata": {},
   "outputs": [
    {
     "data": {
      "text/plain": [
       "<langgraph.graph.state.StateGraph at 0x20101ecfed0>"
      ]
     },
     "execution_count": 82,
     "metadata": {},
     "output_type": "execute_result"
    }
   ],
   "source": [
    "workflow.add_edge(START, \"mybot\")"
   ]
  },
  {
   "cell_type": "code",
   "execution_count": 83,
   "id": "eb6307cd",
   "metadata": {},
   "outputs": [
    {
     "data": {
      "text/plain": [
       "<langgraph.graph.state.StateGraph at 0x20101ecfed0>"
      ]
     },
     "execution_count": 83,
     "metadata": {},
     "output_type": "execute_result"
    }
   ],
   "source": [
    "workflow.add_edge(\"mybot\", END )"
   ]
  },
  {
   "cell_type": "code",
   "execution_count": 84,
   "id": "151ec555",
   "metadata": {},
   "outputs": [],
   "source": [
    "app = workflow.compile()\n"
   ]
  },
  {
   "cell_type": "code",
   "execution_count": 85,
   "id": "21e5c7e8",
   "metadata": {},
   "outputs": [
    {
     "data": {
      "image/png": "[encoded data removed]",
      "text/plain": [
       "<IPython.core.display.Image object>"
      ]
     },
     "metadata": {},
     "output_type": "display_data"
    }
   ],
   "source": [
    "from IPython.display import Image, display\n",
    "display(Image(app.get_graph().draw_mermaid_png()))"
   ]
  },
  {
   "cell_type": "code",
   "execution_count": 86,
   "id": "7be2251d",
   "metadata": {},
   "outputs": [],
   "source": [
    "state = {\n",
    "    \"messages\": [\n",
    "        \"Hi, How are you\"\n",
    "    ]\n",
    "}\n",
    "\n"
   ]
  },
  {
   "cell_type": "code",
   "execution_count": 87,
   "id": "40a169a6",
   "metadata": {},
   "outputs": [
    {
     "data": {
      "text/plain": [
       "{'messages': [AIMessage(content=\"<think>\\n\\n</think>\\n\\nHello! I'm just a virtual assistant, so I don't have feelings, but I'm here and ready to help you with whatever you need. How are you doing? 😊\", additional_kwargs={}, response_metadata={'token_usage': {'completion_tokens': 42, 'prompt_tokens': 8, 'total_tokens': 50, 'completion_time': 0.2152204, 'prompt_time': 0.000333716, 'queue_time': 0.09156362700000001, 'total_time': 0.215554116}, 'model_name': 'deepseek-r1-distill-llama-70b', 'system_fingerprint': 'fp_1bbe7845ec', 'finish_reason': 'stop', 'logprobs': None}, id='run--e6e502de-4d4a-47db-9500-783529c4f68f-0', usage_metadata={'input_tokens': 8, 'output_tokens': 42, 'total_tokens': 50})]}"
      ]
     },
     "execution_count": 87,
     "metadata": {},
     "output_type": "execute_result"
    }
   ],
   "source": [
    "call_model(state)"
   ]
  },
  {
   "cell_type": "code",
   "execution_count": 88,
   "id": "c7065448",
   "metadata": {},
   "outputs": [
    {
     "data": {
      "text/plain": [
       "{'messages': [HumanMessage(content='Hi, How are you', additional_kwargs={}, response_metadata={}, id='b02da889-3383-4df0-b69d-b9e097ff560d'),\n",
       "  AIMessage(content=\"<think>\\n\\n</think>\\n\\nHi! I'm just a virtual assistant, so I don't have feelings, but I'm here and ready to help you with whatever you need. How are you doing? 😊\", additional_kwargs={}, response_metadata={'token_usage': {'completion_tokens': 42, 'prompt_tokens': 8, 'total_tokens': 50, 'completion_time': 0.322845897, 'prompt_time': 0.000141188, 'queue_time': 0.091957912, 'total_time': 0.322987085}, 'model_name': 'deepseek-r1-distill-llama-70b', 'system_fingerprint': 'fp_1bbe7845ec', 'finish_reason': 'stop', 'logprobs': None}, id='run--c2dab9e0-f959-45b9-8a45-37fdc4d1dbbb-0', usage_metadata={'input_tokens': 8, 'output_tokens': 42, 'total_tokens': 50})]}"
      ]
     },
     "execution_count": 88,
     "metadata": {},
     "output_type": "execute_result"
    }
   ],
   "source": [
    "app.invoke(state)"
   ]
  },
  {
   "cell_type": "code",
   "execution_count": 90,
   "id": "9b3beae3",
   "metadata": {},
   "outputs": [],
   "source": [
    "# for output in app.stream(input):\n",
    "#     for key,value in output.items():\n",
    "#         print(f\"Output from {key} Node\")\n",
    "#         print(\"_______________\")\n",
    "#         print(value)\n",
    "#         print(\"\\n\")"
   ]
  },
  {
   "cell_type": "code",
   "execution_count": 91,
   "id": "8a9cb60a",
   "metadata": {},
   "outputs": [],
   "source": [
    "@tool\n",
    "def search(query:str):\n",
    "    \"\"\" this is my custom tool for searching a weather\"\"\"\n",
    "    if \"delhi\" in query.lower():\n",
    "        return \"the temperature is 45 degrees and it is Sunny.\"\n",
    "    return \"the temperature is 25 degress and it is cloudy\""
   ]
  },
  {
   "cell_type": "code",
   "execution_count": 92,
   "id": "666d2eb4",
   "metadata": {},
   "outputs": [
    {
     "data": {
      "text/plain": [
       "'the temperature is 45 degrees and it is Sunny.'"
      ]
     },
     "execution_count": 92,
     "metadata": {},
     "output_type": "execute_result"
    }
   ],
   "source": [
    "search.invoke(\"what is the temperature in Delhi\")"
   ]
  },
  {
   "cell_type": "code",
   "execution_count": 94,
   "id": "43238e61",
   "metadata": {},
   "outputs": [
    {
     "data": {
      "text/plain": [
       "'the temperature is 25 degress and it is cloudy'"
      ]
     },
     "execution_count": 94,
     "metadata": {},
     "output_type": "execute_result"
    }
   ],
   "source": [
    "search.invoke(\"what is the temperature in Kashmir\")"
   ]
  },
  {
   "cell_type": "code",
   "execution_count": 95,
   "id": "d63f594e",
   "metadata": {},
   "outputs": [],
   "source": [
    "tools = [search]"
   ]
  },
  {
   "cell_type": "code",
   "execution_count": 98,
   "id": "429d2bba",
   "metadata": {},
   "outputs": [],
   "source": [
    "llm_with_tools = model.bind_tools(tools)"
   ]
  },
  {
   "cell_type": "code",
   "execution_count": 102,
   "id": "11b37e4a",
   "metadata": {},
   "outputs": [],
   "source": [
    "response = llm_with_tools.invoke(\"What is the weather in kashmir\")"
   ]
  },
  {
   "cell_type": "code",
   "execution_count": 103,
   "id": "7a3b5957",
   "metadata": {},
   "outputs": [
    {
     "name": "stdout",
     "output_type": "stream",
     "text": [
      "content='' additional_kwargs={'tool_calls': [{'id': 'p8vg794xw', 'function': {'arguments': '{\"query\":\"weather in Kashmir\"}', 'name': 'search'}, 'type': 'function'}]} response_metadata={'token_usage': {'completion_tokens': 147, 'prompt_tokens': 133, 'total_tokens': 280, 'completion_time': 0.644926923, 'prompt_time': 0.008556814, 'queue_time': 0.09431779400000001, 'total_time': 0.653483737}, 'model_name': 'deepseek-r1-distill-llama-70b', 'system_fingerprint': 'fp_1bbe7845ec', 'finish_reason': 'tool_calls', 'logprobs': None} id='run--d8b014b6-4726-4441-9444-4928cdc7b5ae-0' tool_calls=[{'name': 'search', 'args': {'query': 'weather in Kashmir'}, 'id': 'p8vg794xw', 'type': 'tool_call'}] usage_metadata={'input_tokens': 133, 'output_tokens': 147, 'total_tokens': 280}\n"
     ]
    }
   ],
   "source": [
    "print(response)"
   ]
  },
  {
   "cell_type": "code",
   "execution_count": 104,
   "id": "65a95660",
   "metadata": {},
   "outputs": [
    {
     "data": {
      "text/plain": [
       "[{'name': 'search',\n",
       "  'args': {'query': 'weather in Kashmir'},\n",
       "  'id': 'p8vg794xw',\n",
       "  'type': 'tool_call'}]"
      ]
     },
     "execution_count": 104,
     "metadata": {},
     "output_type": "execute_result"
    }
   ],
   "source": [
    "response.tool_calls"
   ]
  },
  {
   "cell_type": "code",
   "execution_count": 138,
   "id": "43f120ac",
   "metadata": {},
   "outputs": [],
   "source": [
    "def call_model(state: MessagesState):\n",
    "    question = state[\"messages\"]\n",
    "    response= llm_with_tools.invoke(question)\n",
    "    return {\"messages\": [response]}"
   ]
  },
  {
   "cell_type": "code",
   "execution_count": 139,
   "id": "dee665a2",
   "metadata": {},
   "outputs": [],
   "source": [
    "input={\"messages\":[\"What is the weather in New Delhi \"]}"
   ]
  },
  {
   "cell_type": "code",
   "execution_count": 140,
   "id": "fdd7ecbc",
   "metadata": {},
   "outputs": [
    {
     "data": {
      "text/plain": [
       "''"
      ]
     },
     "execution_count": 140,
     "metadata": {},
     "output_type": "execute_result"
    }
   ],
   "source": [
    "response = call_model(input)\n",
    "response[\"messages\"][-1].content"
   ]
  },
  {
   "cell_type": "code",
   "execution_count": 141,
   "id": "87d5b255",
   "metadata": {},
   "outputs": [
    {
     "data": {
      "text/plain": [
       "[{'name': 'search',\n",
       "  'args': {'query': 'New Delhi'},\n",
       "  'id': '2jzfwbar6',\n",
       "  'type': 'tool_call'}]"
      ]
     },
     "execution_count": 141,
     "metadata": {},
     "output_type": "execute_result"
    }
   ],
   "source": [
    "response[\"messages\"][-1].tool_calls"
   ]
  },
  {
   "cell_type": "code",
   "execution_count": 142,
   "id": "b823c585",
   "metadata": {},
   "outputs": [],
   "source": [
    "def router_functionn(state: MessagesState):\n",
    "    message = state[\"messages\"]\n",
    "    last_message = state[\"messages\"][-1]\n",
    "    if last_message.tool_calls:\n",
    "        return \"tools\"\n",
    "    return END\n"
   ]
  },
  {
   "cell_type": "code",
   "execution_count": 143,
   "id": "2ef44d4f",
   "metadata": {},
   "outputs": [
    {
     "data": {
      "text/plain": [
       "[StructuredTool(name='search', description='this is my custom tool for searching a weather', args_schema=<class 'langchain_core.utils.pydantic.search'>, func=<function search at 0x0000020102106020>)]"
      ]
     },
     "execution_count": 143,
     "metadata": {},
     "output_type": "execute_result"
    }
   ],
   "source": [
    "tools"
   ]
  },
  {
   "cell_type": "code",
   "execution_count": 144,
   "id": "432d8d3c",
   "metadata": {},
   "outputs": [],
   "source": [
    "workflow2 = StateGraph(MessagesState)"
   ]
  },
  {
   "cell_type": "code",
   "execution_count": 145,
   "id": "2df0b4cc",
   "metadata": {},
   "outputs": [
    {
     "data": {
      "text/plain": [
       "<langgraph.graph.state.StateGraph at 0x201020e2d50>"
      ]
     },
     "execution_count": 145,
     "metadata": {},
     "output_type": "execute_result"
    }
   ],
   "source": [
    "workflow2.add_node(\"llmwithtool\", call_model)"
   ]
  },
  {
   "cell_type": "code",
   "execution_count": 146,
   "id": "fe3778c4",
   "metadata": {},
   "outputs": [
    {
     "data": {
      "text/plain": [
       "<langgraph.graph.state.StateGraph at 0x201020e2d50>"
      ]
     },
     "execution_count": 146,
     "metadata": {},
     "output_type": "execute_result"
    }
   ],
   "source": [
    "from langgraph.prebuilt import ToolNode\n",
    "tool_node = ToolNode(tools)\n",
    "workflow2.add_node(\"tool\", tool_node)"
   ]
  },
  {
   "cell_type": "code",
   "execution_count": 147,
   "id": "25842937",
   "metadata": {},
   "outputs": [
    {
     "data": {
      "text/plain": [
       "<langgraph.graph.state.StateGraph at 0x201020e2d50>"
      ]
     },
     "execution_count": 147,
     "metadata": {},
     "output_type": "execute_result"
    }
   ],
   "source": [
    "workflow2.add_edge(START, \"llmwithtool\")\n",
    "workflow2.add_conditional_edges(\"llmwithtool\", \n",
    "                                router_function, {\"tools\":\"tool\",\n",
    "                                END:END})"
   ]
  },
  {
   "cell_type": "code",
   "execution_count": 151,
   "id": "01b0e159",
   "metadata": {},
   "outputs": [],
   "source": [
    "app2 = workflow2.compile()"
   ]
  },
  {
   "cell_type": "code",
   "execution_count": 152,
   "id": "ed996e97",
   "metadata": {},
   "outputs": [
    {
     "data": {
      "image/png": "[encoded data removed]",
      "text/plain": [
       "<IPython.core.display.Image object>"
      ]
     },
     "metadata": {},
     "output_type": "display_data"
    }
   ],
   "source": [
    "from IPython.display import Image, display\n",
    "display(Image(app2.get_graph().draw_mermaid_png()))"
   ]
  },
  {
   "cell_type": "code",
   "execution_count": 153,
   "id": "3c3fd685",
   "metadata": {},
   "outputs": [
    {
     "data": {
      "text/plain": [
       "{'messages': [HumanMessage(content='what is the weather in Bengaluru', additional_kwargs={}, response_metadata={}, id='9aac4e94-01b7-430c-8819-43ac2544a124'),\n",
       "  AIMessage(content='', additional_kwargs={'tool_calls': [{'id': '6d7vyds5f', 'function': {'arguments': '{\"query\":\"Bengaluru weather\"}', 'name': 'search'}, 'type': 'function'}]}, response_metadata={'token_usage': {'completion_tokens': 115, 'prompt_tokens': 132, 'total_tokens': 247, 'completion_time': 0.452145035, 'prompt_time': 0.008450365, 'queue_time': 0.102607853, 'total_time': 0.4605954}, 'model_name': 'deepseek-r1-distill-llama-70b', 'system_fingerprint': 'fp_1bbe7845ec', 'finish_reason': 'tool_calls', 'logprobs': None}, id='run--277a7d80-1a6f-4e42-865c-6c614d079dfc-0', tool_calls=[{'name': 'search', 'args': {'query': 'Bengaluru weather'}, 'id': '6d7vyds5f', 'type': 'tool_call'}], usage_metadata={'input_tokens': 132, 'output_tokens': 115, 'total_tokens': 247}),\n",
       "  ToolMessage(content='the temperature is 25 degress and it is cloudy', name='search', id='372f1f8c-f5d8-456c-accb-83ed78d3913e', tool_call_id='6d7vyds5f')]}"
      ]
     },
     "execution_count": 153,
     "metadata": {},
     "output_type": "execute_result"
    }
   ],
   "source": [
    "app2.invoke({\"messages\":[\"what is the weather in Bengaluru\"]})"
   ]
  },
  {
   "cell_type": "code",
   "execution_count": 154,
   "id": "f5aedf8c",
   "metadata": {},
   "outputs": [
    {
     "data": {
      "text/plain": [
       "{'messages': [HumanMessage(content='hi, how are you', additional_kwargs={}, response_metadata={}, id='652da182-5111-4352-841e-2ea17f8070f2'),\n",
       "  AIMessage(content='Your message does not require a tool call. If you have a specific query about the weather, feel free to ask, and I can assist you with the search tool!', additional_kwargs={}, response_metadata={'token_usage': {'completion_tokens': 312, 'prompt_tokens': 130, 'total_tokens': 442, 'completion_time': 1.465543434, 'prompt_time': 0.008336659, 'queue_time': 0.107993485, 'total_time': 1.473880093}, 'model_name': 'deepseek-r1-distill-llama-70b', 'system_fingerprint': 'fp_1bbe7845ec', 'finish_reason': 'stop', 'logprobs': None}, id='run--6ddd316b-17f4-45c7-87fc-ace805ad7274-0', usage_metadata={'input_tokens': 130, 'output_tokens': 312, 'total_tokens': 442})]}"
      ]
     },
     "execution_count": 154,
     "metadata": {},
     "output_type": "execute_result"
    }
   ],
   "source": [
    "app2.invoke({\"messages\":[\"hi, how are you\"]})"
   ]
  },
  {
   "cell_type": "code",
   "execution_count": null,
   "id": "295ca192",
   "metadata": {},
   "outputs": [],
   "source": []
  }
 ],
 "metadata": {
  "kernelspec": {
   "display_name": "langgraph_env",
   "language": "python",
   "name": "python3"
  },
  "language_info": {
   "codemirror_mode": {
    "name": "ipython",
    "version": 3
   },
   "file_extension": ".py",
   "mimetype": "text/x-python",
   "name": "python",
   "nbconvert_exporter": "python",
   "pygments_lexer": "ipython3",
   "version": "3.13.2"
  }
 },
 "nbformat": 4,
 "nbformat_minor": 5
}
