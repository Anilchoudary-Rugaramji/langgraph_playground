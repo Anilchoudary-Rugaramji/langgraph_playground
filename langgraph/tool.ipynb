{
 "cells": [
  {
   "cell_type": "code",
   "execution_count": 58,
   "id": "a9055377",
   "metadata": {},
   "outputs": [],
   "source": [
    "from dotenv import load_dotenv\n",
    "from langchain_community.tools import WikipediaQueryRun\n",
    "from langchain_community.utilities import WikipediaAPIWrapper"
   ]
  },
  {
   "cell_type": "code",
   "execution_count": 59,
   "id": "52e91210",
   "metadata": {},
   "outputs": [
    {
     "data": {
      "text/plain": [
       "'Page: Ahaus\\nSummary: Ahaus (German pronunciation: [ˈaːhaʊs] ; Westphalian: Ausen) is a town in the district of Borken in the state of North Rhine-Westphalia, Germany. It is located near the border with the Netherlands, lying some 20 km south-east of Enschede and 15 km south from Gronau. Ahaus is the'"
      ]
     },
     "execution_count": 59,
     "metadata": {},
     "output_type": "execute_result"
    }
   ],
   "source": [
    "wikipedia = WikipediaQueryRun(api_wrapper=WikipediaAPIWrapper(top_k_results=3, doc_content_chars_max=300))\n",
    "wikipedia.run(\"Ahaus, Germany\")"
   ]
  },
  {
   "cell_type": "code",
   "execution_count": 60,
   "id": "045a2982",
   "metadata": {},
   "outputs": [
    {
     "data": {
      "text/plain": [
       "'A wrapper around Wikipedia. Useful for when you need to answer general questions about people, places, companies, facts, historical events, or other subjects. Input should be a search query.'"
      ]
     },
     "execution_count": 60,
     "metadata": {},
     "output_type": "execute_result"
    }
   ],
   "source": [
    "wikipedia.description"
   ]
  },
  {
   "cell_type": "code",
   "execution_count": 61,
   "id": "836dcf91",
   "metadata": {},
   "outputs": [
    {
     "data": {
      "text/plain": [
       "{'query': {'description': 'query to look up on wikipedia',\n",
       "  'title': 'Query',\n",
       "  'type': 'string'}}"
      ]
     },
     "execution_count": 61,
     "metadata": {},
     "output_type": "execute_result"
    }
   ],
   "source": [
    "wikipedia.args"
   ]
  },
  {
   "cell_type": "code",
   "execution_count": 62,
   "id": "d5c7eb25",
   "metadata": {},
   "outputs": [],
   "source": [
    "from langchain_community.tools import YouTubeSearchTool"
   ]
  },
  {
   "cell_type": "code",
   "execution_count": 63,
   "id": "b4471187",
   "metadata": {},
   "outputs": [
    {
     "data": {
      "text/plain": [
       "'youtube_search'"
      ]
     },
     "execution_count": 63,
     "metadata": {},
     "output_type": "execute_result"
    }
   ],
   "source": [
    "tool = YouTubeSearchTool()\n",
    "tool.name"
   ]
  },
  {
   "cell_type": "code",
   "execution_count": 64,
   "id": "99774e0d",
   "metadata": {},
   "outputs": [
    {
     "data": {
      "text/plain": [
       "'search for youtube videos associated with a person. the input to this tool should be a comma separated list, the first part contains a person name and the second a number that is the maximum number of video results to return aka num_results. the second part is optional'"
      ]
     },
     "execution_count": 64,
     "metadata": {},
     "output_type": "execute_result"
    }
   ],
   "source": [
    "tool.description"
   ]
  },
  {
   "cell_type": "code",
   "execution_count": 65,
   "id": "eeee1f50",
   "metadata": {},
   "outputs": [
    {
     "data": {
      "text/plain": [
       "\"['https://www.youtube.com/watch?v=_V3zqVlCACQ&pp=ygUNc3Vubnkgc2F2aXRoYQ%3D%3D', 'https://www.youtube.com/watch?v=5zXuUjMJc34&pp=ygUNc3Vubnkgc2F2aXRoYQ%3D%3D']\""
      ]
     },
     "execution_count": 65,
     "metadata": {},
     "output_type": "execute_result"
    }
   ],
   "source": [
    "tool.run(\"sunny savitha\")"
   ]
  },
  {
   "cell_type": "code",
   "execution_count": 66,
   "id": "0e04652d",
   "metadata": {},
   "outputs": [],
   "source": [
    "from langchain_community.tools.tavily_search import TavilySearchResults\n"
   ]
  },
  {
   "cell_type": "code",
   "execution_count": 67,
   "id": "e7268868",
   "metadata": {},
   "outputs": [
    {
     "data": {
      "text/plain": [
       "[{'title': 'Royal Challengers Bengaluru - Wikipedia',\n",
       "  'url': 'https://en.wikipedia.org/wiki/Royal_Challengers_Bengaluru',\n",
       "  'content': '**Royal Challengers Bengaluru**, formerly known as **Royal Challengers Bangalore**, commonly known as **RCB**, is a professional [franchise cricket](https://en.wikipedia.org/wiki/Cricket \"Cricket\") team based in [Bengaluru](https://en.wikipedia.org/wiki/Bengaluru \"Bengaluru\"), [Karnataka](https://en.wikipedia.org/wiki/Karnataka \"Karnataka\"), competing in the [Indian Premier League](https://en.wikipedia.org/wiki/Indian_Premier_League \"Indian Premier League\"). Founded in 2008 by [United [...] | [...] ### Logo',\n",
       "  'score': 0.9177831},\n",
       " {'title': 'RCB: Royal Challengers Bengaluru Official Website',\n",
       "  'url': 'https://www.royalchallengers.com/',\n",
       "  'content': 'When you browse or use our websites or apps (as well as certain third-party websites with whom we have partnered), we and our partners use cookies and similar technologies to collect information automatically from one or more devices associated with you. The information does not usually directly identify you, but it can give you a more personalised web experience. [...] ads for our company, although they may not be personalized to you. [...] *   [Home](https://www.royalchallengers.com/)\\n*   [News](https://www.royalchallengers.com/rcb-cricket-news)\\n*   [Rcb Tv](https://www.royalchallengers.com/videos/rcb-tv)\\n*   [Team](https://www.royalchallengers.com/rcb-squad-men)\\n*   [Fixtures](https://www.royalchallengers.com/fixtures)\\n*   [Dash Of RCB](https://dash.royalchallengers.com/collections/mixer-market)\\n*   [RCB BAR & CAFE](https://www.royalchallengers.com/rcb-bar-cafe)\\n*   [Hustle](https://www.royalchallengers.com/hustle)',\n",
       "  'score': 0.7208996},\n",
       " {'title': 'Royal Challengers Bengaluru - YouTube',\n",
       "  'url': 'https://www.youtube.com/@royalchallengersbengaluruYT',\n",
       "  'content': 'This is the official YouTube channel of the IPL and WPL team Royal Challengers Bengaluru. Enjoy behind the scenes content from the IPL and WPL tournaments inside the RCB camp featuring our star players Virat Kohli, Smriti Mandhana, Ellyse Perry, Rajat Patidar, Shreyanka Patil, Yash Dayal, Richa Ghosh and more with our digital shows Bold Diaries, RCB Insider, Game Day, 12th Man TV and the RCB Podcast.',\n",
       "  'score': 0.63316137}]"
      ]
     },
     "execution_count": 67,
     "metadata": {},
     "output_type": "execute_result"
    }
   ],
   "source": [
    "## Crawl internet in real time\n",
    "import os\n",
    "load_dotenv()\n",
    "TAVILY_API_KEY= os.getenv(\"TAVILY_API_KEY\")\n",
    "tool= TavilySearchResults(tavily_api_key=TAVILY_API_KEY)\n",
    "tool.invoke(\"RCB\")"
   ]
  },
  {
   "cell_type": "markdown",
   "id": "05f6f764",
   "metadata": {},
   "source": [
    "## Custom Tool"
   ]
  },
  {
   "cell_type": "code",
   "execution_count": 68,
   "id": "70a78738",
   "metadata": {},
   "outputs": [],
   "source": [
    "def multiply(a:int,b:int)->int:\n",
    "    return a*b"
   ]
  },
  {
   "cell_type": "code",
   "execution_count": 69,
   "id": "dfd05697",
   "metadata": {},
   "outputs": [
    {
     "data": {
      "text/plain": [
       "200"
      ]
     },
     "execution_count": 69,
     "metadata": {},
     "output_type": "execute_result"
    }
   ],
   "source": [
    "multiply(10,20)"
   ]
  },
  {
   "cell_type": "markdown",
   "id": "a7528732",
   "metadata": {},
   "source": [
    "#### On the above function invoke and run does not work, so that means the above function is not used as tool, \n",
    "#### so to convert any function in to tool, we need to use the tool decorator from the langchain\n"
   ]
  },
  {
   "cell_type": "markdown",
   "id": "6fbbb306",
   "metadata": {},
   "source": []
  },
  {
   "cell_type": "code",
   "execution_count": 70,
   "id": "f5ac0737",
   "metadata": {},
   "outputs": [],
   "source": [
    "from langchain.agents import tool\n"
   ]
  },
  {
   "cell_type": "code",
   "execution_count": 71,
   "id": "946e9f00",
   "metadata": {},
   "outputs": [],
   "source": [
    "@tool\n",
    "def multiply(a:int,b:int)->int:\n",
    "    \"\"\"\n",
    "    Tool to multipy two numbers\n",
    "    \"\"\"\n",
    "    return a*b"
   ]
  },
  {
   "cell_type": "code",
   "execution_count": 72,
   "id": "a58d8a18",
   "metadata": {},
   "outputs": [
    {
     "data": {
      "text/plain": [
       "200"
      ]
     },
     "execution_count": 72,
     "metadata": {},
     "output_type": "execute_result"
    }
   ],
   "source": [
    "multiply.invoke({\"a\":10, \"b\":20})"
   ]
  },
  {
   "cell_type": "code",
   "execution_count": 73,
   "id": "e808be49",
   "metadata": {},
   "outputs": [
    {
     "data": {
      "text/plain": [
       "'Tool to multipy two numbers'"
      ]
     },
     "execution_count": 73,
     "metadata": {},
     "output_type": "execute_result"
    }
   ],
   "source": [
    "multiply.description"
   ]
  },
  {
   "cell_type": "code",
   "execution_count": 74,
   "id": "52ab6442",
   "metadata": {},
   "outputs": [
    {
     "data": {
      "text/plain": [
       "{'a': {'title': 'A', 'type': 'integer'},\n",
       " 'b': {'title': 'B', 'type': 'integer'}}"
      ]
     },
     "execution_count": 74,
     "metadata": {},
     "output_type": "execute_result"
    }
   ],
   "source": [
    "multiply.args"
   ]
  },
  {
   "cell_type": "code",
   "execution_count": 78,
   "id": "8e39e78d",
   "metadata": {},
   "outputs": [],
   "source": [
    "@tool\n",
    "def get_word_length(word:str)->int:\n",
    "    \"\"\"\n",
    "    Tool that returns the lenght of the word\n",
    "    \"\"\"\n",
    "    return len(word)"
   ]
  },
  {
   "cell_type": "code",
   "execution_count": 79,
   "id": "44c00f0d",
   "metadata": {},
   "outputs": [
    {
     "data": {
      "text/plain": [
       "27"
      ]
     },
     "execution_count": 79,
     "metadata": {},
     "output_type": "execute_result"
    }
   ],
   "source": [
    "get_word_length.invoke({\"word\": \"HowManyWordsInThisSenetence\"})"
   ]
  },
  {
   "cell_type": "code",
   "execution_count": 80,
   "id": "3e428122",
   "metadata": {},
   "outputs": [
    {
     "data": {
      "text/plain": [
       "'Tool that returns the lenght of the word'"
      ]
     },
     "execution_count": 80,
     "metadata": {},
     "output_type": "execute_result"
    }
   ],
   "source": [
    "get_word_length.description"
   ]
  },
  {
   "cell_type": "code",
   "execution_count": 81,
   "id": "3ab59468",
   "metadata": {},
   "outputs": [
    {
     "data": {
      "text/plain": [
       "{'word': {'title': 'Word', 'type': 'string'}}"
      ]
     },
     "execution_count": 81,
     "metadata": {},
     "output_type": "execute_result"
    }
   ],
   "source": [
    "get_word_length.args"
   ]
  },
  {
   "cell_type": "code",
   "execution_count": 82,
   "id": "a0b0099a",
   "metadata": {},
   "outputs": [],
   "source": [
    "@tool\n",
    "def call_instagram_api(args):\n",
    "    \"\"\"\n",
    "    This is the the tool to invoke isntagram api\n",
    "\n",
    "    \"\"\"\n",
    "    pass"
   ]
  },
  {
   "cell_type": "code",
   "execution_count": 83,
   "id": "2abe97ac",
   "metadata": {},
   "outputs": [
    {
     "data": {
      "text/plain": [
       "'This is the the tool to invoke isntagram api'"
      ]
     },
     "execution_count": 83,
     "metadata": {},
     "output_type": "execute_result"
    }
   ],
   "source": [
    "call_instagram_api.description"
   ]
  },
  {
   "cell_type": "code",
   "execution_count": 84,
   "id": "d4ac68f3",
   "metadata": {},
   "outputs": [
    {
     "data": {
      "text/plain": [
       "{'v__args': {'default': None,\n",
       "  'items': {},\n",
       "  'title': 'V  Args',\n",
       "  'type': 'array'}}"
      ]
     },
     "execution_count": 84,
     "metadata": {},
     "output_type": "execute_result"
    }
   ],
   "source": [
    "call_instagram_api.args"
   ]
  },
  {
   "cell_type": "code",
   "execution_count": null,
   "id": "12fa8bf3",
   "metadata": {},
   "outputs": [],
   "source": []
  }
 ],
 "metadata": {
  "kernelspec": {
   "display_name": "langgraph_env",
   "language": "python",
   "name": "python3"
  },
  "language_info": {
   "codemirror_mode": {
    "name": "ipython",
    "version": 3
   },
   "file_extension": ".py",
   "mimetype": "text/x-python",
   "name": "python",
   "nbconvert_exporter": "python",
   "pygments_lexer": "ipython3",
   "version": "3.13.2"
  }
 },
 "nbformat": 4,
 "nbformat_minor": 5
}
