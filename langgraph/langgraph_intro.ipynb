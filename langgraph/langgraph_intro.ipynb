{
 "cells": [
  {
   "cell_type": "code",
   "execution_count": 198,
   "id": "1fb3d0a9",
   "metadata": {},
   "outputs": [],
   "source": [
    "def function1(input1):\n",
    "    return input1 + \" from function 1\""
   ]
  },
  {
   "cell_type": "code",
   "execution_count": 199,
   "id": "dad05fb8",
   "metadata": {},
   "outputs": [],
   "source": [
    "def function2(input2):\n",
    "    return input2 + \" from function 2\""
   ]
  },
  {
   "cell_type": "code",
   "execution_count": 200,
   "id": "a2f866fa",
   "metadata": {},
   "outputs": [],
   "source": [
    "def function3(input3):\n",
    "    return input3 + \" from function 3\""
   ]
  },
  {
   "cell_type": "code",
   "execution_count": 201,
   "id": "490390bf",
   "metadata": {},
   "outputs": [
    {
     "data": {
      "text/plain": [
       "'Anil from function 1'"
      ]
     },
     "execution_count": 201,
     "metadata": {},
     "output_type": "execute_result"
    }
   ],
   "source": [
    "function1(\"Anil\")\n"
   ]
  },
  {
   "cell_type": "code",
   "execution_count": 202,
   "id": "a557a6f7",
   "metadata": {},
   "outputs": [
    {
     "data": {
      "text/plain": [
       "'choudary from function 2'"
      ]
     },
     "execution_count": 202,
     "metadata": {},
     "output_type": "execute_result"
    }
   ],
   "source": [
    "function2(\"choudary\")\n"
   ]
  },
  {
   "cell_type": "code",
   "execution_count": 203,
   "id": "6d3d4e91",
   "metadata": {},
   "outputs": [
    {
     "data": {
      "text/plain": [
       "'R from function 3'"
      ]
     },
     "execution_count": 203,
     "metadata": {},
     "output_type": "execute_result"
    }
   ],
   "source": [
    "function3(\"R\")"
   ]
  },
  {
   "cell_type": "code",
   "execution_count": 204,
   "id": "c16262dc",
   "metadata": {},
   "outputs": [],
   "source": [
    "from langgraph.graph import Graph"
   ]
  },
  {
   "cell_type": "code",
   "execution_count": 205,
   "id": "8b46ff8d",
   "metadata": {},
   "outputs": [],
   "source": [
    "workflow1 = Graph()"
   ]
  },
  {
   "cell_type": "code",
   "execution_count": 206,
   "id": "e878302d",
   "metadata": {},
   "outputs": [
    {
     "data": {
      "text/plain": [
       "<langgraph.graph.graph.Graph at 0x248f7273610>"
      ]
     },
     "execution_count": 206,
     "metadata": {},
     "output_type": "execute_result"
    }
   ],
   "source": [
    "workflow1.add_node(\"func1\",function1)"
   ]
  },
  {
   "cell_type": "code",
   "execution_count": 207,
   "id": "d71b6404",
   "metadata": {},
   "outputs": [
    {
     "data": {
      "text/plain": [
       "<langgraph.graph.graph.Graph at 0x248f7273610>"
      ]
     },
     "execution_count": 207,
     "metadata": {},
     "output_type": "execute_result"
    }
   ],
   "source": [
    "workflow1.add_node(\"func2\",function2)"
   ]
  },
  {
   "cell_type": "code",
   "execution_count": 208,
   "id": "fd68ebb0",
   "metadata": {},
   "outputs": [
    {
     "data": {
      "text/plain": [
       "<langgraph.graph.graph.Graph at 0x248f7273610>"
      ]
     },
     "execution_count": 208,
     "metadata": {},
     "output_type": "execute_result"
    }
   ],
   "source": [
    "workflow1.add_edge(\"func1\", \"func2\")"
   ]
  },
  {
   "cell_type": "code",
   "execution_count": 209,
   "id": "58d05b41",
   "metadata": {},
   "outputs": [
    {
     "data": {
      "text/plain": [
       "<langgraph.graph.graph.Graph at 0x248f7273610>"
      ]
     },
     "execution_count": 209,
     "metadata": {},
     "output_type": "execute_result"
    }
   ],
   "source": [
    "workflow1.set_entry_point(\"func1\")"
   ]
  },
  {
   "cell_type": "code",
   "execution_count": 210,
   "id": "4901d5cb",
   "metadata": {},
   "outputs": [
    {
     "data": {
      "text/plain": [
       "<langgraph.graph.graph.Graph at 0x248f7273610>"
      ]
     },
     "execution_count": 210,
     "metadata": {},
     "output_type": "execute_result"
    }
   ],
   "source": [
    "workflow1.set_finish_point(\"func2\")"
   ]
  },
  {
   "cell_type": "code",
   "execution_count": 211,
   "id": "93ea1d1d",
   "metadata": {},
   "outputs": [],
   "source": [
    "app = workflow1.compile()\n"
   ]
  },
  {
   "cell_type": "code",
   "execution_count": 212,
   "id": "18ce3b67",
   "metadata": {},
   "outputs": [],
   "source": [
    "from IPython.display import Image, display"
   ]
  },
  {
   "cell_type": "code",
   "execution_count": 213,
   "id": "3792d985",
   "metadata": {},
   "outputs": [
    {
     "data": {
      "image/png": "[encoded data removed]",
      "text/plain": [
       "<IPython.core.display.Image object>"
      ]
     },
     "metadata": {},
     "output_type": "display_data"
    }
   ],
   "source": [
    "display(Image(app.get_graph().draw_mermaid_png()))"
   ]
  },
  {
   "cell_type": "code",
   "execution_count": 214,
   "id": "e9f61d85",
   "metadata": {},
   "outputs": [
    {
     "data": {
      "text/plain": [
       "'Hi, for first Langgraph task from function 1 from function 2'"
      ]
     },
     "execution_count": 214,
     "metadata": {},
     "output_type": "execute_result"
    }
   ],
   "source": [
    "app.invoke(\"Hi, for first Langgraph task\")"
   ]
  },
  {
   "cell_type": "code",
   "execution_count": 215,
   "id": "70a4b5b2",
   "metadata": {},
   "outputs": [
    {
     "name": "stdout",
     "output_type": "stream",
     "text": [
      "here is output from func1\n",
      "--------\n",
      "hi, this is Deepika from function 1\n",
      "\n",
      "\n",
      "here is output from func2\n",
      "--------\n",
      "hi, this is Deepika from function 1 from function 2\n",
      "\n",
      "\n"
     ]
    }
   ],
   "source": [
    "for output in app.stream(\"hi, this is Deepika\"):\n",
    "    for key, value in output.items():\n",
    "        print(f\"here is output from {key}\")\n",
    "        print(\"--------\")\n",
    "        print(value)\n",
    "        print(\"\\n\")"
   ]
  },
  {
   "cell_type": "code",
   "execution_count": 241,
   "id": "303108ef",
   "metadata": {},
   "outputs": [],
   "source": [
    "from dotenv import load_dotenv\n",
    "from langchain_groq import ChatGroq\n",
    "load_dotenv()\n",
    "\n",
    "def llm(input):\n",
    "    model = ChatGroq(model=\"llama3-8b-8192\")\n",
    "    output = model.invoke(input)\n",
    "    return output.content"
   ]
  },
  {
   "cell_type": "code",
   "execution_count": 242,
   "id": "070a9a3f",
   "metadata": {},
   "outputs": [],
   "source": [
    "def token_counter(input):\n",
    "    token = input.split()\n",
    "    token_number = len(token)\n",
    "    return f\"total token number in the generated answer is {token_number}\""
   ]
  },
  {
   "cell_type": "code",
   "execution_count": 243,
   "id": "71822040",
   "metadata": {},
   "outputs": [],
   "source": [
    "workflow2 = Graph()"
   ]
  },
  {
   "cell_type": "code",
   "execution_count": 244,
   "id": "3079a024",
   "metadata": {},
   "outputs": [
    {
     "data": {
      "text/plain": [
       "<langgraph.graph.graph.Graph at 0x248f88c16d0>"
      ]
     },
     "execution_count": 244,
     "metadata": {},
     "output_type": "execute_result"
    }
   ],
   "source": [
    "workflow2.add_node(\"My_LLM\", llm)"
   ]
  },
  {
   "cell_type": "code",
   "execution_count": 245,
   "id": "7c84373f",
   "metadata": {},
   "outputs": [
    {
     "data": {
      "text/plain": [
       "<langgraph.graph.graph.Graph at 0x248f88c16d0>"
      ]
     },
     "execution_count": 245,
     "metadata": {},
     "output_type": "execute_result"
    }
   ],
   "source": [
    "workflow2.add_node(\"LLM_Output_token_counter\", token_counter)"
   ]
  },
  {
   "cell_type": "code",
   "execution_count": 246,
   "id": "0add1e08",
   "metadata": {},
   "outputs": [
    {
     "data": {
      "text/plain": [
       "<langgraph.graph.graph.Graph at 0x248f88c16d0>"
      ]
     },
     "execution_count": 246,
     "metadata": {},
     "output_type": "execute_result"
    }
   ],
   "source": [
    "workflow2.add_edge(\"My_LLM\", \"LLM_Output_token_counter\")"
   ]
  },
  {
   "cell_type": "code",
   "execution_count": 247,
   "id": "5670e05d",
   "metadata": {},
   "outputs": [
    {
     "data": {
      "text/plain": [
       "<langgraph.graph.graph.Graph at 0x248f88c16d0>"
      ]
     },
     "execution_count": 247,
     "metadata": {},
     "output_type": "execute_result"
    }
   ],
   "source": [
    "workflow2.set_entry_point(\"My_LLM\")"
   ]
  },
  {
   "cell_type": "code",
   "execution_count": 248,
   "id": "1790dc82",
   "metadata": {},
   "outputs": [
    {
     "data": {
      "text/plain": [
       "<langgraph.graph.graph.Graph at 0x248f88c16d0>"
      ]
     },
     "execution_count": 248,
     "metadata": {},
     "output_type": "execute_result"
    }
   ],
   "source": [
    "workflow2.set_finish_point(\"LLM_Output_token_counter\")"
   ]
  },
  {
   "cell_type": "code",
   "execution_count": 249,
   "id": "f962c171",
   "metadata": {},
   "outputs": [],
   "source": [
    "app = workflow2.compile()"
   ]
  },
  {
   "cell_type": "code",
   "execution_count": 250,
   "id": "269e3caf",
   "metadata": {},
   "outputs": [
    {
     "data": {
      "text/plain": [
       "'total token number in the generated answer is 373'"
      ]
     },
     "execution_count": 250,
     "metadata": {},
     "output_type": "execute_result"
    }
   ],
   "source": [
    "\n",
    "app.invoke(\"can you tell me about the capital of India?\")"
   ]
  },
  {
   "cell_type": "code",
   "execution_count": 251,
   "id": "cd3e1440",
   "metadata": {},
   "outputs": [
    {
     "data": {
      "text/plain": [
       "'total token number in the generated answer is 715'"
      ]
     },
     "execution_count": 251,
     "metadata": {},
     "output_type": "execute_result"
    }
   ],
   "source": [
    "app.invoke(\"can you tell me about the capital of India in detail?\")"
   ]
  },
  {
   "cell_type": "code",
   "execution_count": null,
   "id": "d349eea9",
   "metadata": {},
   "outputs": [],
   "source": []
  }
 ],
 "metadata": {
  "kernelspec": {
   "display_name": "langgraph_env",
   "language": "python",
   "name": "python3"
  },
  "language_info": {
   "name": "python",
   "version": "3.13.2"
  }
 },
 "nbformat": 4,
 "nbformat_minor": 5
}
