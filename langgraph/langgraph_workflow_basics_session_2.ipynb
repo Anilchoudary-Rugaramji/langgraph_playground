{
 "cells": [
  {
   "cell_type": "markdown",
   "id": "b35aa69b",
   "metadata": {},
   "source": [
    "### Configure the Model"
   ]
  },
  {
   "cell_type": "code",
   "execution_count": 212,
   "id": "dc01f920",
   "metadata": {},
   "outputs": [
    {
     "name": "stdout",
     "output_type": "stream",
     "text": [
      "content=\"I'm just an AI, I don't have feelings or emotions like humans do. I'm just a computer program designed to understand and respond to natural language, so I don't have good or bad days. I'm here to help you with any questions or tasks you have, though! How can I assist you today?\" additional_kwargs={} response_metadata={'token_usage': {'completion_tokens': 66, 'prompt_tokens': 15, 'total_tokens': 81, 'completion_time': 0.25083486, 'prompt_time': 0.025447662, 'queue_time': 4.677933832, 'total_time': 0.276282522}, 'model_name': 'llama3-8b-8192', 'system_fingerprint': 'fp_8b7c3a83f7', 'finish_reason': 'stop', 'logprobs': None} id='run--933dc1d6-e6d3-4169-bf15-4363b2db5261-0' usage_metadata={'input_tokens': 15, 'output_tokens': 66, 'total_tokens': 81}\n"
     ]
    }
   ],
   "source": [
    "from langchain_groq import ChatGroq\n",
    "model = ChatGroq(model=\"llama3-8b-8192\")\n",
    "output = model.invoke(\"Hi, how are you\")\n",
    "print(output)"
   ]
  },
  {
   "cell_type": "markdown",
   "id": "7846102f",
   "metadata": {},
   "source": [
    "### Configure the Embeddings"
   ]
  },
  {
   "cell_type": "code",
   "execution_count": 213,
   "id": "19103564",
   "metadata": {},
   "outputs": [
    {
     "data": {
      "text/plain": [
       "384"
      ]
     },
     "execution_count": 213,
     "metadata": {},
     "output_type": "execute_result"
    }
   ],
   "source": [
    "from langchain_huggingface import HuggingFaceEmbeddings\n",
    "embeddings = HuggingFaceEmbeddings(model_name=\"BAAI/bge-small-en\")\n",
    "len(embeddings.embed_query(\"HI\"))"
   ]
  },
  {
   "cell_type": "markdown",
   "id": "57d03c73",
   "metadata": {},
   "source": [
    "### Lets take a data embedded and store it in the Vector DB"
   ]
  },
  {
   "cell_type": "code",
   "execution_count": 214,
   "id": "ece734b9",
   "metadata": {},
   "outputs": [],
   "source": [
    "from langchain_community.document_loaders import TextLoader, DirectoryLoader\n",
    "from langchain_community.vectorstores import Chroma\n",
    "from langchain.text_splitter import RecursiveCharacterTextSplitter\n",
    "from langchain_core.prompts import PromptTemplate"
   ]
  },
  {
   "cell_type": "code",
   "execution_count": 215,
   "id": "ccada1f9",
   "metadata": {},
   "outputs": [],
   "source": [
    "## Data Loader\n",
    "loader=DirectoryLoader(\"../data\",glob=\"./*.txt\", loader_cls=TextLoader)"
   ]
  },
  {
   "cell_type": "code",
   "execution_count": 216,
   "id": "7599eaa6",
   "metadata": {},
   "outputs": [
    {
     "data": {
      "text/plain": [
       "[Document(metadata={'source': '..\\\\data\\\\indian_economy.txt'}, page_content=\"The economy of India is a developing mixed economy with a notable public sector in strategic sectors.[52] It is the world's fourth-largest economy by nominal GDP and the third-largest by purchasing power parity (PPP); on a per capita income basis, India ranked 136th by GDP (nominal) and 119th by GDP (PPP).[53] From independence in 1947 until 1991, successive governments followed the Soviet model and promoted protectionist economic policies, with extensive Sovietization, state intervention, demand-side economics, natural resources, bureaucrat-driven enterprises and economic regulation. This is characterised as dirigism, in the form of the Licence Raj.[54][55] The end of the Cold War and an acute balance of payments crisis in 1991 led to the adoption of a broad economic liberalisation in India and indicative planning.[56][57] India has about 1,900 public sector companies,[58] with the Indian state having complete control and ownership of railways and highways. The Indian government has major control over banking,[59] insurance,[60] farming,[61] fertilizers and chemicals,[62] airports,[63] essential utilities.[64] The state also exerts substantial control over digitalization, telecommunication, supercomputing, space, port and shipping industries,[65] which were effectively nationalised in the mid-1950s but has seen the emergence of key corporate players.[54][55][66]\\n\\nNearly 70% of India's GDP is driven by domestic consumption;[67] the country remains the world's fourth-largest consumer market.[68] Aside private consumption, India's GDP is also fueled by government spending, investments, and exports.[69] In 2022, India was the world's 10th-largest importer and the 8th-largest exporter.[70] India has been a member of the World Trade Organization since 1 January 1995.[71] It ranks 63rd on the ease of doing business index and 40th on the Global Competitiveness Index.[72][73] India has one of the world's highest number of billionaires along with extreme income inequality.[74][75] Economists and social scientists often consider India a welfare state.[76][77][78][79] India's overall social welfare spending stood at 8.6% of GDP in 2021-22, which is much lower than the average for OECD nations.[80][81] With 586 million workers, the Indian labour force is the world's second-largest.[18] Despite having one of the longest working hours, India has one of the lowest workforce productivity levels in the world.[82][83][84][85][86] Economists say that due to structural economic problems, India is experiencing jobless economic growth.[87]\\n\\nDuring the Great Recession, the economy faced a mild slowdown. India endorsed Keynesian policy and initiated stimulus measures (both fiscal and monetary) to boost growth and generate demand. In subsequent years, economic growth revived.[88]\\n\\nIn 2021â€“22, the foreign direct investment (FDI) in India was $82 billion. The leading sectors for FDI inflows were the Finance, Banking, Insurance and R&D.[89] India has free trade agreements with several nations and blocs, including ASEAN, SAFTA, Mercosur, South Korea, Japan, Australia, the United Arab Emirates, and several others which are in effect or under negotiating stage.[90][91]\\n\\nThe service sector makes up more than 50% of GDP and remains the fastest growing sector, while the industrial sector and the agricultural sector employs a majority of the labor force.[92] The Bombay Stock Exchange and National Stock Exchange are some of the world's largest stock exchanges by market capitalisation.[93] India is the world's sixth-largest manufacturer, representing 2.6% of global manufacturing output.[94] Nearly 65% of India's population is rural,[95] and contributes about 50% of India's GDP.[96] India faces high unemployment, rising income inequality, and a drop in aggregate demand.[97][98] India's gross domestic savings rate stood at 29.3% of GDP in 2022.[99]\")]"
      ]
     },
     "execution_count": 216,
     "metadata": {},
     "output_type": "execute_result"
    }
   ],
   "source": [
    "docs = loader.load()\n",
    "docs"
   ]
  },
  {
   "cell_type": "code",
   "execution_count": 217,
   "id": "dc396b76",
   "metadata": {},
   "outputs": [
    {
     "data": {
      "text/plain": [
       "\"The economy of India is a developing mixed economy with a notable public sector in strategic sectors.[52] It is the world's fourth-largest economy by nominal GDP and the third-largest by purchasing power parity (PPP); on a per capita income basis, India ranked 136th by GDP (nominal) and 119th by GDP (PPP).[53] From independence in 1947 until 1991, successive governments followed the Soviet model and promoted protectionist economic policies, with extensive Sovietization, state intervention, demand-side economics, natural resources, bureaucrat-driven enterprises and economic regulation. This is characterised as dirigism, in the form of the Licence Raj.[54][55] The end of the Cold War and an acute balance of payments crisis in 1991 led to the adoption of a broad economic liberalisation in India and indicative planning.[56][57] India has about 1,900 public sector companies,[58] with the Indian state having complete control and ownership of railways and highways. The Indian government has major control over banking,[59] insurance,[60] farming,[61] fertilizers and chemicals,[62] airports,[63] essential utilities.[64] The state also exerts substantial control over digitalization, telecommunication, supercomputing, space, port and shipping industries,[65] which were effectively nationalised in the mid-1950s but has seen the emergence of key corporate players.[54][55][66]\\n\\nNearly 70% of India's GDP is driven by domestic consumption;[67] the country remains the world's fourth-largest consumer market.[68] Aside private consumption, India's GDP is also fueled by government spending, investments, and exports.[69] In 2022, India was the world's 10th-largest importer and the 8th-largest exporter.[70] India has been a member of the World Trade Organization since 1 January 1995.[71] It ranks 63rd on the ease of doing business index and 40th on the Global Competitiveness Index.[72][73] India has one of the world's highest number of billionaires along with extreme income inequality.[74][75] Economists and social scientists often consider India a welfare state.[76][77][78][79] India's overall social welfare spending stood at 8.6% of GDP in 2021-22, which is much lower than the average for OECD nations.[80][81] With 586 million workers, the Indian labour force is the world's second-largest.[18] Despite having one of the longest working hours, India has one of the lowest workforce productivity levels in the world.[82][83][84][85][86] Economists say that due to structural economic problems, India is experiencing jobless economic growth.[87]\\n\\nDuring the Great Recession, the economy faced a mild slowdown. India endorsed Keynesian policy and initiated stimulus measures (both fiscal and monetary) to boost growth and generate demand. In subsequent years, economic growth revived.[88]\\n\\nIn 2021â€“22, the foreign direct investment (FDI) in India was $82 billion. The leading sectors for FDI inflows were the Finance, Banking, Insurance and R&D.[89] India has free trade agreements with several nations and blocs, including ASEAN, SAFTA, Mercosur, South Korea, Japan, Australia, the United Arab Emirates, and several others which are in effect or under negotiating stage.[90][91]\\n\\nThe service sector makes up more than 50% of GDP and remains the fastest growing sector, while the industrial sector and the agricultural sector employs a majority of the labor force.[92] The Bombay Stock Exchange and National Stock Exchange are some of the world's largest stock exchanges by market capitalisation.[93] India is the world's sixth-largest manufacturer, representing 2.6% of global manufacturing output.[94] Nearly 65% of India's population is rural,[95] and contributes about 50% of India's GDP.[96] India faces high unemployment, rising income inequality, and a drop in aggregate demand.[97][98] India's gross domestic savings rate stood at 29.3% of GDP in 2022.[99]\""
      ]
     },
     "execution_count": 217,
     "metadata": {},
     "output_type": "execute_result"
    }
   ],
   "source": [
    "docs[0].page_content"
   ]
  },
  {
   "cell_type": "code",
   "execution_count": 218,
   "id": "65621cb5",
   "metadata": {},
   "outputs": [],
   "source": [
    "## Chunking data \n",
    "text_splitter = RecursiveCharacterTextSplitter(\n",
    "    chunk_size=200,\n",
    "    chunk_overlap=50\n",
    ")\n"
   ]
  },
  {
   "cell_type": "code",
   "execution_count": 219,
   "id": "c63b9542",
   "metadata": {},
   "outputs": [],
   "source": [
    "new_docs =text_splitter.split_documents(documents=docs)"
   ]
  },
  {
   "cell_type": "code",
   "execution_count": 220,
   "id": "4a5b9ba4",
   "metadata": {},
   "outputs": [
    {
     "data": {
      "text/plain": [
       "[Document(metadata={'source': '..\\\\data\\\\indian_economy.txt'}, page_content=\"The economy of India is a developing mixed economy with a notable public sector in strategic sectors.[52] It is the world's fourth-largest economy by nominal GDP and the third-largest by purchasing\"),\n",
       " Document(metadata={'source': '..\\\\data\\\\indian_economy.txt'}, page_content='nominal GDP and the third-largest by purchasing power parity (PPP); on a per capita income basis, India ranked 136th by GDP (nominal) and 119th by GDP (PPP).[53] From independence in 1947 until 1991,'),\n",
       " Document(metadata={'source': '..\\\\data\\\\indian_economy.txt'}, page_content='(PPP).[53] From independence in 1947 until 1991, successive governments followed the Soviet model and promoted protectionist economic policies, with extensive Sovietization, state intervention,'),\n",
       " Document(metadata={'source': '..\\\\data\\\\indian_economy.txt'}, page_content='with extensive Sovietization, state intervention, demand-side economics, natural resources, bureaucrat-driven enterprises and economic regulation. This is characterised as dirigism, in the form of'),\n",
       " Document(metadata={'source': '..\\\\data\\\\indian_economy.txt'}, page_content='This is characterised as dirigism, in the form of the Licence Raj.[54][55] The end of the Cold War and an acute balance of payments crisis in 1991 led to the adoption of a broad economic'),\n",
       " Document(metadata={'source': '..\\\\data\\\\indian_economy.txt'}, page_content='in 1991 led to the adoption of a broad economic liberalisation in India and indicative planning.[56][57] India has about 1,900 public sector companies,[58] with the Indian state having complete'),\n",
       " Document(metadata={'source': '..\\\\data\\\\indian_economy.txt'}, page_content='with the Indian state having complete control and ownership of railways and highways. The Indian government has major control over banking,[59] insurance,[60] farming,[61] fertilizers and'),\n",
       " Document(metadata={'source': '..\\\\data\\\\indian_economy.txt'}, page_content='insurance,[60] farming,[61] fertilizers and chemicals,[62] airports,[63] essential utilities.[64] The state also exerts substantial control over digitalization, telecommunication, supercomputing,'),\n",
       " Document(metadata={'source': '..\\\\data\\\\indian_economy.txt'}, page_content='telecommunication, supercomputing, space, port and shipping industries,[65] which were effectively nationalised in the mid-1950s but has seen the emergence of key corporate players.[54][55][66]'),\n",
       " Document(metadata={'source': '..\\\\data\\\\indian_economy.txt'}, page_content=\"Nearly 70% of India's GDP is driven by domestic consumption;[67] the country remains the world's fourth-largest consumer market.[68] Aside private consumption, India's GDP is also fueled by\"),\n",
       " Document(metadata={'source': '..\\\\data\\\\indian_economy.txt'}, page_content=\"consumption, India's GDP is also fueled by government spending, investments, and exports.[69] In 2022, India was the world's 10th-largest importer and the 8th-largest exporter.[70] India has been a\"),\n",
       " Document(metadata={'source': '..\\\\data\\\\indian_economy.txt'}, page_content='the 8th-largest exporter.[70] India has been a member of the World Trade Organization since 1 January 1995.[71] It ranks 63rd on the ease of doing business index and 40th on the Global'),\n",
       " Document(metadata={'source': '..\\\\data\\\\indian_economy.txt'}, page_content=\"of doing business index and 40th on the Global Competitiveness Index.[72][73] India has one of the world's highest number of billionaires along with extreme income inequality.[74][75] Economists and\"),\n",
       " Document(metadata={'source': '..\\\\data\\\\indian_economy.txt'}, page_content=\"extreme income inequality.[74][75] Economists and social scientists often consider India a welfare state.[76][77][78][79] India's overall social welfare spending stood at 8.6% of GDP in 2021-22,\"),\n",
       " Document(metadata={'source': '..\\\\data\\\\indian_economy.txt'}, page_content=\"welfare spending stood at 8.6% of GDP in 2021-22, which is much lower than the average for OECD nations.[80][81] With 586 million workers, the Indian labour force is the world's second-largest.[18]\"),\n",
       " Document(metadata={'source': '..\\\\data\\\\indian_economy.txt'}, page_content=\"labour force is the world's second-largest.[18] Despite having one of the longest working hours, India has one of the lowest workforce productivity levels in the world.[82][83][84][85][86] Economists\"),\n",
       " Document(metadata={'source': '..\\\\data\\\\indian_economy.txt'}, page_content='in the world.[82][83][84][85][86] Economists say that due to structural economic problems, India is experiencing jobless economic growth.[87]'),\n",
       " Document(metadata={'source': '..\\\\data\\\\indian_economy.txt'}, page_content='During the Great Recession, the economy faced a mild slowdown. India endorsed Keynesian policy and initiated stimulus measures (both fiscal and monetary) to boost growth and generate demand. In'),\n",
       " Document(metadata={'source': '..\\\\data\\\\indian_economy.txt'}, page_content='monetary) to boost growth and generate demand. In subsequent years, economic growth revived.[88]'),\n",
       " Document(metadata={'source': '..\\\\data\\\\indian_economy.txt'}, page_content='In 2021â€“22, the foreign direct investment (FDI) in India was $82 billion. The leading sectors for FDI inflows were the Finance, Banking, Insurance and R&D.[89] India has free trade agreements with'),\n",
       " Document(metadata={'source': '..\\\\data\\\\indian_economy.txt'}, page_content='and R&D.[89] India has free trade agreements with several nations and blocs, including ASEAN, SAFTA, Mercosur, South Korea, Japan, Australia, the United Arab Emirates, and several others which are in'),\n",
       " Document(metadata={'source': '..\\\\data\\\\indian_economy.txt'}, page_content='Arab Emirates, and several others which are in effect or under negotiating stage.[90][91]'),\n",
       " Document(metadata={'source': '..\\\\data\\\\indian_economy.txt'}, page_content='The service sector makes up more than 50% of GDP and remains the fastest growing sector, while the industrial sector and the agricultural sector employs a majority of the labor force.[92] The Bombay'),\n",
       " Document(metadata={'source': '..\\\\data\\\\indian_economy.txt'}, page_content=\"a majority of the labor force.[92] The Bombay Stock Exchange and National Stock Exchange are some of the world's largest stock exchanges by market capitalisation.[93] India is the world's\"),\n",
       " Document(metadata={'source': '..\\\\data\\\\indian_economy.txt'}, page_content=\"market capitalisation.[93] India is the world's sixth-largest manufacturer, representing 2.6% of global manufacturing output.[94] Nearly 65% of India's population is rural,[95] and contributes about\"),\n",
       " Document(metadata={'source': '..\\\\data\\\\indian_economy.txt'}, page_content=\"population is rural,[95] and contributes about 50% of India's GDP.[96] India faces high unemployment, rising income inequality, and a drop in aggregate demand.[97][98] India's gross domestic savings\"),\n",
       " Document(metadata={'source': '..\\\\data\\\\indian_economy.txt'}, page_content=\"demand.[97][98] India's gross domestic savings rate stood at 29.3% of GDP in 2022.[99]\")]"
      ]
     },
     "execution_count": 220,
     "metadata": {},
     "output_type": "execute_result"
    }
   ],
   "source": [
    "new_docs"
   ]
  },
  {
   "cell_type": "code",
   "execution_count": 221,
   "id": "14653987",
   "metadata": {},
   "outputs": [
    {
     "data": {
      "text/plain": [
       "[\"The economy of India is a developing mixed economy with a notable public sector in strategic sectors.[52] It is the world's fourth-largest economy by nominal GDP and the third-largest by purchasing\",\n",
       " 'nominal GDP and the third-largest by purchasing power parity (PPP); on a per capita income basis, India ranked 136th by GDP (nominal) and 119th by GDP (PPP).[53] From independence in 1947 until 1991,',\n",
       " '(PPP).[53] From independence in 1947 until 1991, successive governments followed the Soviet model and promoted protectionist economic policies, with extensive Sovietization, state intervention,',\n",
       " 'with extensive Sovietization, state intervention, demand-side economics, natural resources, bureaucrat-driven enterprises and economic regulation. This is characterised as dirigism, in the form of',\n",
       " 'This is characterised as dirigism, in the form of the Licence Raj.[54][55] The end of the Cold War and an acute balance of payments crisis in 1991 led to the adoption of a broad economic',\n",
       " 'in 1991 led to the adoption of a broad economic liberalisation in India and indicative planning.[56][57] India has about 1,900 public sector companies,[58] with the Indian state having complete',\n",
       " 'with the Indian state having complete control and ownership of railways and highways. The Indian government has major control over banking,[59] insurance,[60] farming,[61] fertilizers and',\n",
       " 'insurance,[60] farming,[61] fertilizers and chemicals,[62] airports,[63] essential utilities.[64] The state also exerts substantial control over digitalization, telecommunication, supercomputing,',\n",
       " 'telecommunication, supercomputing, space, port and shipping industries,[65] which were effectively nationalised in the mid-1950s but has seen the emergence of key corporate players.[54][55][66]',\n",
       " \"Nearly 70% of India's GDP is driven by domestic consumption;[67] the country remains the world's fourth-largest consumer market.[68] Aside private consumption, India's GDP is also fueled by\",\n",
       " \"consumption, India's GDP is also fueled by government spending, investments, and exports.[69] In 2022, India was the world's 10th-largest importer and the 8th-largest exporter.[70] India has been a\",\n",
       " 'the 8th-largest exporter.[70] India has been a member of the World Trade Organization since 1 January 1995.[71] It ranks 63rd on the ease of doing business index and 40th on the Global',\n",
       " \"of doing business index and 40th on the Global Competitiveness Index.[72][73] India has one of the world's highest number of billionaires along with extreme income inequality.[74][75] Economists and\",\n",
       " \"extreme income inequality.[74][75] Economists and social scientists often consider India a welfare state.[76][77][78][79] India's overall social welfare spending stood at 8.6% of GDP in 2021-22,\",\n",
       " \"welfare spending stood at 8.6% of GDP in 2021-22, which is much lower than the average for OECD nations.[80][81] With 586 million workers, the Indian labour force is the world's second-largest.[18]\",\n",
       " \"labour force is the world's second-largest.[18] Despite having one of the longest working hours, India has one of the lowest workforce productivity levels in the world.[82][83][84][85][86] Economists\",\n",
       " 'in the world.[82][83][84][85][86] Economists say that due to structural economic problems, India is experiencing jobless economic growth.[87]',\n",
       " 'During the Great Recession, the economy faced a mild slowdown. India endorsed Keynesian policy and initiated stimulus measures (both fiscal and monetary) to boost growth and generate demand. In',\n",
       " 'monetary) to boost growth and generate demand. In subsequent years, economic growth revived.[88]',\n",
       " 'In 2021â€“22, the foreign direct investment (FDI) in India was $82 billion. The leading sectors for FDI inflows were the Finance, Banking, Insurance and R&D.[89] India has free trade agreements with',\n",
       " 'and R&D.[89] India has free trade agreements with several nations and blocs, including ASEAN, SAFTA, Mercosur, South Korea, Japan, Australia, the United Arab Emirates, and several others which are in',\n",
       " 'Arab Emirates, and several others which are in effect or under negotiating stage.[90][91]',\n",
       " 'The service sector makes up more than 50% of GDP and remains the fastest growing sector, while the industrial sector and the agricultural sector employs a majority of the labor force.[92] The Bombay',\n",
       " \"a majority of the labor force.[92] The Bombay Stock Exchange and National Stock Exchange are some of the world's largest stock exchanges by market capitalisation.[93] India is the world's\",\n",
       " \"market capitalisation.[93] India is the world's sixth-largest manufacturer, representing 2.6% of global manufacturing output.[94] Nearly 65% of India's population is rural,[95] and contributes about\",\n",
       " \"population is rural,[95] and contributes about 50% of India's GDP.[96] India faces high unemployment, rising income inequality, and a drop in aggregate demand.[97][98] India's gross domestic savings\",\n",
       " \"demand.[97][98] India's gross domestic savings rate stood at 29.3% of GDP in 2022.[99]\"]"
      ]
     },
     "execution_count": 221,
     "metadata": {},
     "output_type": "execute_result"
    }
   ],
   "source": [
    "doc_string = [doc.page_content for doc in new_docs]\n",
    "doc_string"
   ]
  },
  {
   "cell_type": "code",
   "execution_count": 222,
   "id": "aade4fc6",
   "metadata": {},
   "outputs": [
    {
     "data": {
      "text/plain": [
       "27"
      ]
     },
     "execution_count": 222,
     "metadata": {},
     "output_type": "execute_result"
    }
   ],
   "source": [
    "len(doc_string)"
   ]
  },
  {
   "cell_type": "code",
   "execution_count": 223,
   "id": "cddcbb53",
   "metadata": {},
   "outputs": [],
   "source": [
    "db=Chroma.from_documents(new_docs, embeddings)"
   ]
  },
  {
   "cell_type": "code",
   "execution_count": 224,
   "id": "9e3b373b",
   "metadata": {},
   "outputs": [],
   "source": [
    "retriever = db.as_retriever(search_kwargs={\"k\":3})"
   ]
  },
  {
   "cell_type": "code",
   "execution_count": 225,
   "id": "8418cb15",
   "metadata": {},
   "outputs": [
    {
     "data": {
      "text/plain": [
       "[Document(metadata={'source': '..\\\\data\\\\indian_economy.txt'}, page_content='in the world.[82][83][84][85][86] Economists say that due to structural economic problems, India is experiencing jobless economic growth.[87]'),\n",
       " Document(metadata={'source': '..\\\\data\\\\indian_economy.txt'}, page_content='in the world.[82][83][84][85][86] Economists say that due to structural economic problems, India is experiencing jobless economic growth.[87]'),\n",
       " Document(metadata={'source': '..\\\\data\\\\indian_economy.txt'}, page_content='in the world.[82][83][84][85][86] Economists say that due to structural economic problems, India is experiencing jobless economic growth.[87]')]"
      ]
     },
     "execution_count": 225,
     "metadata": {},
     "output_type": "execute_result"
    }
   ],
   "source": [
    "retriever.invoke(\"what is industrial growth of India\")"
   ]
  },
  {
   "cell_type": "markdown",
   "id": "6b3fda76",
   "metadata": {},
   "source": [
    "### LangGraph workflow"
   ]
  },
  {
   "cell_type": "markdown",
   "id": "a9db9321",
   "metadata": {},
   "source": [
    "### 1. Creation of pydantic class"
   ]
  },
  {
   "cell_type": "code",
   "execution_count": 226,
   "id": "295d37ef",
   "metadata": {},
   "outputs": [],
   "source": [
    "from pydantic import BaseModel, Field\n",
    "from typing import TypedDict, Annotated, Sequence\n",
    "from langchain_core.messages import BaseMessage\n",
    "import operator\n",
    "\n",
    "class TopicSelectionParser(BaseModel):\n",
    "    Topic: str = Field(description=\"selected topic\")\n",
    "    Reasoning : str = Field(description=\"Reasoning behind the topic selection\")"
   ]
  },
  {
   "cell_type": "code",
   "execution_count": 227,
   "id": "faef14a0",
   "metadata": {},
   "outputs": [],
   "source": [
    "from langchain.output_parsers import PydanticOutputParser"
   ]
  },
  {
   "cell_type": "code",
   "execution_count": 228,
   "id": "6551f13a",
   "metadata": {},
   "outputs": [],
   "source": [
    "parser = PydanticOutputParser(pydantic_object=TopicSelectionParser)"
   ]
  },
  {
   "cell_type": "code",
   "execution_count": 229,
   "id": "93ac8389",
   "metadata": {},
   "outputs": [
    {
     "data": {
      "text/plain": [
       "'The output should be formatted as a JSON instance that conforms to the JSON schema below.\\n\\nAs an example, for the schema {\"properties\": {\"foo\": {\"title\": \"Foo\", \"description\": \"a list of strings\", \"type\": \"array\", \"items\": {\"type\": \"string\"}}}, \"required\": [\"foo\"]}\\nthe object {\"foo\": [\"bar\", \"baz\"]} is a well-formatted instance of the schema. The object {\"properties\": {\"foo\": [\"bar\", \"baz\"]}} is not well-formatted.\\n\\nHere is the output schema:\\n```\\n{\"properties\": {\"Topic\": {\"description\": \"selected topic\", \"title\": \"Topic\", \"type\": \"string\"}, \"Reasoning\": {\"description\": \"Reasoning behind the topic selection\", \"title\": \"Reasoning\", \"type\": \"string\"}}, \"required\": [\"Topic\", \"Reasoning\"]}\\n```'"
      ]
     },
     "execution_count": 229,
     "metadata": {},
     "output_type": "execute_result"
    }
   ],
   "source": [
    "parser.get_format_instructions()"
   ]
  },
  {
   "cell_type": "code",
   "execution_count": 230,
   "id": "45231f0f",
   "metadata": {},
   "outputs": [],
   "source": [
    "class AgentState(TypedDict):\n",
    "    messages:  Annotated[Sequence[BaseMessage], operator.add]"
   ]
  },
  {
   "cell_type": "code",
   "execution_count": 231,
   "id": "cb59a724",
   "metadata": {},
   "outputs": [],
   "source": [
    "\n",
    "def function_1(state:AgentState):\n",
    "\n",
    "    question=state[\"messages\"][-1]\n",
    "\n",
    "    print(\"Question\", question)\n",
    "    \n",
    "    template=\"\"\"\n",
    "    Your task is to classify the given user into one of the following categories: [India, NOt Related].\n",
    "    Only respond with the category name and nothing else.\n",
    "    User query:{question}\n",
    "    {format_instructions}\n",
    "    \"\"\"\n",
    "\n",
    "    prompt=PromptTemplate(\n",
    "        template=template,\n",
    "        input_variables=[\"question\"],\n",
    "        partial_variables={\"format_instructions\":parser.get_format_instructions()}\n",
    "    )\n",
    "\n",
    "    # model = ChatGroq(model=\"llama3-8b-8192\")\n",
    "\n",
    "    chain = prompt | model | parser\n",
    "\n",
    "    response = chain.invoke({\"question\":question})\n",
    "    print(\"Parsed Response\", response)\n",
    "\n",
    "    return {\"messages\": [response.Topic]}\n"
   ]
  },
  {
   "cell_type": "code",
   "execution_count": 232,
   "id": "cda11926",
   "metadata": {},
   "outputs": [],
   "source": [
    "state={\"messages\":[\"what is today's weather\"]}"
   ]
  },
  {
   "cell_type": "code",
   "execution_count": 233,
   "id": "f744c685",
   "metadata": {},
   "outputs": [
    {
     "name": "stdout",
     "output_type": "stream",
     "text": [
      "Question what is today's weather\n",
      "Parsed Response Topic='Not Related' Reasoning=\"User query is about general information (weather) and doesn't specifically relate to India.\"\n"
     ]
    },
    {
     "data": {
      "text/plain": [
       "{'messages': ['Not Related']}"
      ]
     },
     "execution_count": 233,
     "metadata": {},
     "output_type": "execute_result"
    }
   ],
   "source": [
    "function_1(state)"
   ]
  },
  {
   "cell_type": "code",
   "execution_count": 234,
   "id": "902576aa",
   "metadata": {},
   "outputs": [
    {
     "name": "stdout",
     "output_type": "stream",
     "text": [
      "Question what is GDP of INDIA\n",
      "Parsed Response Topic='India' Reasoning=\"User query related to India's economy\"\n"
     ]
    },
    {
     "data": {
      "text/plain": [
       "{'messages': ['India']}"
      ]
     },
     "execution_count": 234,
     "metadata": {},
     "output_type": "execute_result"
    }
   ],
   "source": [
    "state={\"messages\":[\"what is GDP of INDIA\"]}\n",
    "function_1(state)"
   ]
  },
  {
   "cell_type": "code",
   "execution_count": 252,
   "id": "73d41484",
   "metadata": {},
   "outputs": [],
   "source": [
    "def router(state: AgentState):\n",
    "    print(\"--> Router -->\")\n",
    "\n",
    "    messages = state.get(\"messages\", [])\n",
    "    if not messages:\n",
    "        print(\"[Router Warning] No messages found! Defaulting to LLM Call.\")\n",
    "        return \"LLM Call\"\n",
    "\n",
    "    last_message = messages[-1]\n",
    "    print(\"last message:\", last_message)\n",
    "\n",
    "    if \"india\" in last_message.lower():\n",
    "        return \"RAG Call\"\n",
    "    else:\n",
    "        return \"LLM Call\"\n"
   ]
  },
  {
   "cell_type": "code",
   "execution_count": 253,
   "id": "9e34ce3d",
   "metadata": {},
   "outputs": [],
   "source": [
    "## RAG Function\n",
    "\n",
    "def function_2(state:AgentState):\n",
    "    print(\"--> RAG Call -->\")\n",
    "\n",
    "    question = state[\"message\"][0]\n",
    "\n",
    "    prompt = PromptTemplate(\n",
    "        template=\"\"\"\n",
    "        You are an assistant for the question-answering tasks. Use the following pieces of retrived context to answer. If you dont know \n",
    "        the answer, just say that you dont know. Use three sentences maximum and keep the answer concise. \\n Question: {question} \\nContentxt:\n",
    "        {context} \\nAnswer:\"\"\",\n",
    "        input_variables=['context', 'question']\n",
    "    )\n",
    "\n",
    "    rag_chain = (\n",
    "        {\"context\": retriver | format_docs, \"question\": RunnablePassthrough()}\n",
    "        | prompt\n",
    "        | model\n",
    "        | StrOutputParser()\n",
    "    )\n",
    "    result = rag_chain.invoke(question)\n",
    "    return {\n",
    "        {\"messages\"}: ['result']\n",
    "    }"
   ]
  },
  {
   "cell_type": "code",
   "execution_count": 254,
   "id": "d658ebd8",
   "metadata": {},
   "outputs": [],
   "source": [
    "## LLM Function\n",
    "def function_3(state:AgentState):\n",
    "    print(\"--> LLM Call -->\")\n",
    "    question = state[\"messages\"][0]\n",
    "\n",
    "# Normal LLM Call\n",
    "\n",
    "    complete_query = \"Answer the following question with your knowledge of the real world. Following is the user question: \" + question\n",
    "    response = model.invoke(complete_query)\n",
    "    return {\"messages\": [response.content]}"
   ]
  },
  {
   "cell_type": "code",
   "execution_count": 255,
   "id": "9a91c99f",
   "metadata": {},
   "outputs": [],
   "source": [
    "def router(state:AgentState):\n",
    "    pass"
   ]
  },
  {
   "cell_type": "code",
   "execution_count": 256,
   "id": "ac4d7570",
   "metadata": {},
   "outputs": [],
   "source": [
    "from langgraph.graph import StateGraph, END"
   ]
  },
  {
   "cell_type": "code",
   "execution_count": 257,
   "id": "bd37c4d5",
   "metadata": {},
   "outputs": [],
   "source": [
    "workflow = StateGraph(AgentState)"
   ]
  },
  {
   "cell_type": "code",
   "execution_count": 258,
   "id": "27ca8125",
   "metadata": {},
   "outputs": [
    {
     "data": {
      "text/plain": [
       "<langgraph.graph.state.StateGraph at 0x22707aa7100>"
      ]
     },
     "execution_count": 258,
     "metadata": {},
     "output_type": "execute_result"
    }
   ],
   "source": [
    "workflow.add_node(\"Supervisor\", function_1)"
   ]
  },
  {
   "cell_type": "code",
   "execution_count": 259,
   "id": "6da07053",
   "metadata": {},
   "outputs": [
    {
     "data": {
      "text/plain": [
       "<langgraph.graph.state.StateGraph at 0x22707aa7100>"
      ]
     },
     "execution_count": 259,
     "metadata": {},
     "output_type": "execute_result"
    }
   ],
   "source": [
    "workflow.add_node(\"RAG\", function_2)"
   ]
  },
  {
   "cell_type": "code",
   "execution_count": 260,
   "id": "bdb91dcf",
   "metadata": {},
   "outputs": [
    {
     "data": {
      "text/plain": [
       "<langgraph.graph.state.StateGraph at 0x22707aa7100>"
      ]
     },
     "execution_count": 260,
     "metadata": {},
     "output_type": "execute_result"
    }
   ],
   "source": [
    "workflow.add_node(\"LLM\", function_3)"
   ]
  },
  {
   "cell_type": "code",
   "execution_count": 261,
   "id": "dd042bcf",
   "metadata": {},
   "outputs": [
    {
     "data": {
      "text/plain": [
       "<langgraph.graph.state.StateGraph at 0x22707aa7100>"
      ]
     },
     "execution_count": 261,
     "metadata": {},
     "output_type": "execute_result"
    }
   ],
   "source": [
    "workflow.set_entry_point(\"Supervisor\")"
   ]
  },
  {
   "cell_type": "code",
   "execution_count": 262,
   "id": "ffd415f7",
   "metadata": {},
   "outputs": [
    {
     "data": {
      "text/plain": [
       "<langgraph.graph.state.StateGraph at 0x22707aa7100>"
      ]
     },
     "execution_count": 262,
     "metadata": {},
     "output_type": "execute_result"
    }
   ],
   "source": [
    "workflow.add_conditional_edges(\n",
    "    \"Supervisor\",\n",
    "    router,\n",
    "    {\n",
    "        \"RAG Call\": \"RAG\",\n",
    "        \"LLM Call\": \"LLM\"\n",
    "    }\n",
    ")"
   ]
  },
  {
   "cell_type": "code",
   "execution_count": 263,
   "id": "38dae63b",
   "metadata": {},
   "outputs": [
    {
     "data": {
      "text/plain": [
       "<langgraph.graph.state.StateGraph at 0x22707aa7100>"
      ]
     },
     "execution_count": 263,
     "metadata": {},
     "output_type": "execute_result"
    }
   ],
   "source": [
    "workflow.add_edge(\"RAG\",END)\n",
    "workflow.add_edge(\"LLM\", END)"
   ]
  },
  {
   "cell_type": "code",
   "execution_count": 264,
   "id": "20160b49",
   "metadata": {},
   "outputs": [],
   "source": [
    "app= workflow.compile()"
   ]
  },
  {
   "cell_type": "code",
   "execution_count": 265,
   "id": "5060ef1a",
   "metadata": {},
   "outputs": [],
   "source": [
    "state={\"messages\":[\"whats gdp of state\"]}"
   ]
  },
  {
   "cell_type": "code",
   "execution_count": null,
   "id": "af73ca81",
   "metadata": {},
   "outputs": [
    {
     "name": "stdout",
     "output_type": "stream",
     "text": [
      "Question whats gdp of state\n",
      "Parsed Response Topic='Not Related' Reasoning='The user query is about GDP of a state, which is not a topic related to India'\n"
     ]
    },
    {
     "ename": "KeyError",
     "evalue": "None",
     "output_type": "error",
     "traceback": [
      "\u001b[31m---------------------------------------------------------------------------\u001b[39m",
      "\u001b[31mKeyError\u001b[39m                                  Traceback (most recent call last)",
      "\u001b[36mCell\u001b[39m\u001b[36m \u001b[39m\u001b[32mIn[266]\u001b[39m\u001b[32m, line 1\u001b[39m\n\u001b[32m----> \u001b[39m\u001b[32m1\u001b[39m \u001b[43mapp\u001b[49m\u001b[43m.\u001b[49m\u001b[43minvoke\u001b[49m\u001b[43m(\u001b[49m\u001b[43mstate\u001b[49m\u001b[43m)\u001b[49m\n",
      "\u001b[36mFile \u001b[39m\u001b[32mc:\\Users\\Anilchoudary R\\Gitrepos\\langgraph_playground\\langgraph_env\\Lib\\site-packages\\langgraph\\pregel\\__init__.py:2719\u001b[39m, in \u001b[36mPregel.invoke\u001b[39m\u001b[34m(self, input, config, stream_mode, output_keys, interrupt_before, interrupt_after, checkpoint_during, debug, **kwargs)\u001b[39m\n\u001b[32m   2716\u001b[39m chunks: \u001b[38;5;28mlist\u001b[39m[Union[\u001b[38;5;28mdict\u001b[39m[\u001b[38;5;28mstr\u001b[39m, Any], Any]] = []\n\u001b[32m   2717\u001b[39m interrupts: \u001b[38;5;28mlist\u001b[39m[Interrupt] = []\n\u001b[32m-> \u001b[39m\u001b[32m2719\u001b[39m \u001b[43m\u001b[49m\u001b[38;5;28;43;01mfor\u001b[39;49;00m\u001b[43m \u001b[49m\u001b[43mchunk\u001b[49m\u001b[43m \u001b[49m\u001b[38;5;129;43;01min\u001b[39;49;00m\u001b[43m \u001b[49m\u001b[38;5;28;43mself\u001b[39;49m\u001b[43m.\u001b[49m\u001b[43mstream\u001b[49m\u001b[43m(\u001b[49m\n\u001b[32m   2720\u001b[39m \u001b[43m    \u001b[49m\u001b[38;5;28;43minput\u001b[39;49m\u001b[43m,\u001b[49m\n\u001b[32m   2721\u001b[39m \u001b[43m    \u001b[49m\u001b[43mconfig\u001b[49m\u001b[43m,\u001b[49m\n\u001b[32m   2722\u001b[39m \u001b[43m    \u001b[49m\u001b[43mstream_mode\u001b[49m\u001b[43m=\u001b[49m\u001b[43mstream_mode\u001b[49m\u001b[43m,\u001b[49m\n\u001b[32m   2723\u001b[39m \u001b[43m    \u001b[49m\u001b[43moutput_keys\u001b[49m\u001b[43m=\u001b[49m\u001b[43moutput_keys\u001b[49m\u001b[43m,\u001b[49m\n\u001b[32m   2724\u001b[39m \u001b[43m    \u001b[49m\u001b[43minterrupt_before\u001b[49m\u001b[43m=\u001b[49m\u001b[43minterrupt_before\u001b[49m\u001b[43m,\u001b[49m\n\u001b[32m   2725\u001b[39m \u001b[43m    \u001b[49m\u001b[43minterrupt_after\u001b[49m\u001b[43m=\u001b[49m\u001b[43minterrupt_after\u001b[49m\u001b[43m,\u001b[49m\n\u001b[32m   2726\u001b[39m \u001b[43m    \u001b[49m\u001b[43mcheckpoint_during\u001b[49m\u001b[43m=\u001b[49m\u001b[43mcheckpoint_during\u001b[49m\u001b[43m,\u001b[49m\n\u001b[32m   2727\u001b[39m \u001b[43m    \u001b[49m\u001b[43mdebug\u001b[49m\u001b[43m=\u001b[49m\u001b[43mdebug\u001b[49m\u001b[43m,\u001b[49m\n\u001b[32m   2728\u001b[39m \u001b[43m    \u001b[49m\u001b[43m*\u001b[49m\u001b[43m*\u001b[49m\u001b[43mkwargs\u001b[49m\u001b[43m,\u001b[49m\n\u001b[32m   2729\u001b[39m \u001b[43m\u001b[49m\u001b[43m)\u001b[49m\u001b[43m:\u001b[49m\n\u001b[32m   2730\u001b[39m \u001b[43m    \u001b[49m\u001b[38;5;28;43;01mif\u001b[39;49;00m\u001b[43m \u001b[49m\u001b[43mstream_mode\u001b[49m\u001b[43m \u001b[49m\u001b[43m==\u001b[49m\u001b[43m \u001b[49m\u001b[33;43m\"\u001b[39;49m\u001b[33;43mvalues\u001b[39;49m\u001b[33;43m\"\u001b[39;49m\u001b[43m:\u001b[49m\n\u001b[32m   2731\u001b[39m \u001b[43m        \u001b[49m\u001b[38;5;28;43;01mif\u001b[39;49;00m\u001b[43m \u001b[49m\u001b[43m(\u001b[49m\n\u001b[32m   2732\u001b[39m \u001b[43m            \u001b[49m\u001b[38;5;28;43misinstance\u001b[39;49m\u001b[43m(\u001b[49m\u001b[43mchunk\u001b[49m\u001b[43m,\u001b[49m\u001b[43m \u001b[49m\u001b[38;5;28;43mdict\u001b[39;49m\u001b[43m)\u001b[49m\n\u001b[32m   2733\u001b[39m \u001b[43m            \u001b[49m\u001b[38;5;129;43;01mand\u001b[39;49;00m\u001b[43m \u001b[49m\u001b[43m(\u001b[49m\u001b[43mints\u001b[49m\u001b[43m \u001b[49m\u001b[43m:=\u001b[49m\u001b[43m \u001b[49m\u001b[43mchunk\u001b[49m\u001b[43m.\u001b[49m\u001b[43mget\u001b[49m\u001b[43m(\u001b[49m\u001b[43mINTERRUPT\u001b[49m\u001b[43m)\u001b[49m\u001b[43m)\u001b[49m\u001b[43m \u001b[49m\u001b[38;5;129;43;01mis\u001b[39;49;00m\u001b[43m \u001b[49m\u001b[38;5;129;43;01mnot\u001b[39;49;00m\u001b[43m \u001b[49m\u001b[38;5;28;43;01mNone\u001b[39;49;00m\n\u001b[32m   2734\u001b[39m \u001b[43m        \u001b[49m\u001b[43m)\u001b[49m\u001b[43m:\u001b[49m\n",
      "\u001b[36mFile \u001b[39m\u001b[32mc:\\Users\\Anilchoudary R\\Gitrepos\\langgraph_playground\\langgraph_env\\Lib\\site-packages\\langgraph\\pregel\\__init__.py:2436\u001b[39m, in \u001b[36mPregel.stream\u001b[39m\u001b[34m(self, input, config, stream_mode, output_keys, interrupt_before, interrupt_after, checkpoint_during, debug, subgraphs)\u001b[39m\n\u001b[32m   2434\u001b[39m         \u001b[38;5;28;01mfor\u001b[39;00m task \u001b[38;5;129;01min\u001b[39;00m loop.match_cached_writes():\n\u001b[32m   2435\u001b[39m             loop.output_writes(task.id, task.writes, cached=\u001b[38;5;28;01mTrue\u001b[39;00m)\n\u001b[32m-> \u001b[39m\u001b[32m2436\u001b[39m \u001b[43m        \u001b[49m\u001b[38;5;28;43;01mfor\u001b[39;49;00m\u001b[43m \u001b[49m\u001b[43m_\u001b[49m\u001b[43m \u001b[49m\u001b[38;5;129;43;01min\u001b[39;49;00m\u001b[43m \u001b[49m\u001b[43mrunner\u001b[49m\u001b[43m.\u001b[49m\u001b[43mtick\u001b[49m\u001b[43m(\u001b[49m\n\u001b[32m   2437\u001b[39m \u001b[43m            \u001b[49m\u001b[43m[\u001b[49m\u001b[43mt\u001b[49m\u001b[43m \u001b[49m\u001b[38;5;28;43;01mfor\u001b[39;49;00m\u001b[43m \u001b[49m\u001b[43mt\u001b[49m\u001b[43m \u001b[49m\u001b[38;5;129;43;01min\u001b[39;49;00m\u001b[43m \u001b[49m\u001b[43mloop\u001b[49m\u001b[43m.\u001b[49m\u001b[43mtasks\u001b[49m\u001b[43m.\u001b[49m\u001b[43mvalues\u001b[49m\u001b[43m(\u001b[49m\u001b[43m)\u001b[49m\u001b[43m \u001b[49m\u001b[38;5;28;43;01mif\u001b[39;49;00m\u001b[43m \u001b[49m\u001b[38;5;129;43;01mnot\u001b[39;49;00m\u001b[43m \u001b[49m\u001b[43mt\u001b[49m\u001b[43m.\u001b[49m\u001b[43mwrites\u001b[49m\u001b[43m]\u001b[49m\u001b[43m,\u001b[49m\n\u001b[32m   2438\u001b[39m \u001b[43m            \u001b[49m\u001b[43mtimeout\u001b[49m\u001b[43m=\u001b[49m\u001b[38;5;28;43mself\u001b[39;49m\u001b[43m.\u001b[49m\u001b[43mstep_timeout\u001b[49m\u001b[43m,\u001b[49m\n\u001b[32m   2439\u001b[39m \u001b[43m            \u001b[49m\u001b[43mget_waiter\u001b[49m\u001b[43m=\u001b[49m\u001b[43mget_waiter\u001b[49m\u001b[43m,\u001b[49m\n\u001b[32m   2440\u001b[39m \u001b[43m            \u001b[49m\u001b[43mschedule_task\u001b[49m\u001b[43m=\u001b[49m\u001b[43mloop\u001b[49m\u001b[43m.\u001b[49m\u001b[43maccept_push\u001b[49m\u001b[43m,\u001b[49m\n\u001b[32m   2441\u001b[39m \u001b[43m        \u001b[49m\u001b[43m)\u001b[49m\u001b[43m:\u001b[49m\n\u001b[32m   2442\u001b[39m \u001b[43m            \u001b[49m\u001b[38;5;66;43;03m# emit output\u001b[39;49;00m\n\u001b[32m   2443\u001b[39m \u001b[43m            \u001b[49m\u001b[38;5;28;43;01myield from\u001b[39;49;00m\u001b[43m \u001b[49m\u001b[43moutput\u001b[49m\u001b[43m(\u001b[49m\u001b[43m)\u001b[49m\n\u001b[32m   2444\u001b[39m \u001b[38;5;66;03m# emit output\u001b[39;00m\n",
      "\u001b[36mFile \u001b[39m\u001b[32mc:\\Users\\Anilchoudary R\\Gitrepos\\langgraph_playground\\langgraph_env\\Lib\\site-packages\\langgraph\\pregel\\runner.py:161\u001b[39m, in \u001b[36mPregelRunner.tick\u001b[39m\u001b[34m(self, tasks, reraise, timeout, retry_policy, get_waiter, schedule_task)\u001b[39m\n\u001b[32m    159\u001b[39m t = tasks[\u001b[32m0\u001b[39m]\n\u001b[32m    160\u001b[39m \u001b[38;5;28;01mtry\u001b[39;00m:\n\u001b[32m--> \u001b[39m\u001b[32m161\u001b[39m     \u001b[43mrun_with_retry\u001b[49m\u001b[43m(\u001b[49m\n\u001b[32m    162\u001b[39m \u001b[43m        \u001b[49m\u001b[43mt\u001b[49m\u001b[43m,\u001b[49m\n\u001b[32m    163\u001b[39m \u001b[43m        \u001b[49m\u001b[43mretry_policy\u001b[49m\u001b[43m,\u001b[49m\n\u001b[32m    164\u001b[39m \u001b[43m        \u001b[49m\u001b[43mconfigurable\u001b[49m\u001b[43m=\u001b[49m\u001b[43m{\u001b[49m\n\u001b[32m    165\u001b[39m \u001b[43m            \u001b[49m\u001b[43mCONFIG_KEY_CALL\u001b[49m\u001b[43m:\u001b[49m\u001b[43m \u001b[49m\u001b[43mpartial\u001b[49m\u001b[43m(\u001b[49m\n\u001b[32m    166\u001b[39m \u001b[43m                \u001b[49m\u001b[43m_call\u001b[49m\u001b[43m,\u001b[49m\n\u001b[32m    167\u001b[39m \u001b[43m                \u001b[49m\u001b[43mweakref\u001b[49m\u001b[43m.\u001b[49m\u001b[43mref\u001b[49m\u001b[43m(\u001b[49m\u001b[43mt\u001b[49m\u001b[43m)\u001b[49m\u001b[43m,\u001b[49m\n\u001b[32m    168\u001b[39m \u001b[43m                \u001b[49m\u001b[43mretry\u001b[49m\u001b[43m=\u001b[49m\u001b[43mretry_policy\u001b[49m\u001b[43m,\u001b[49m\n\u001b[32m    169\u001b[39m \u001b[43m                \u001b[49m\u001b[43mfutures\u001b[49m\u001b[43m=\u001b[49m\u001b[43mweakref\u001b[49m\u001b[43m.\u001b[49m\u001b[43mref\u001b[49m\u001b[43m(\u001b[49m\u001b[43mfutures\u001b[49m\u001b[43m)\u001b[49m\u001b[43m,\u001b[49m\n\u001b[32m    170\u001b[39m \u001b[43m                \u001b[49m\u001b[43mschedule_task\u001b[49m\u001b[43m=\u001b[49m\u001b[43mschedule_task\u001b[49m\u001b[43m,\u001b[49m\n\u001b[32m    171\u001b[39m \u001b[43m                \u001b[49m\u001b[43msubmit\u001b[49m\u001b[43m=\u001b[49m\u001b[38;5;28;43mself\u001b[39;49m\u001b[43m.\u001b[49m\u001b[43msubmit\u001b[49m\u001b[43m,\u001b[49m\n\u001b[32m    172\u001b[39m \u001b[43m            \u001b[49m\u001b[43m)\u001b[49m\u001b[43m,\u001b[49m\n\u001b[32m    173\u001b[39m \u001b[43m        \u001b[49m\u001b[43m}\u001b[49m\u001b[43m,\u001b[49m\n\u001b[32m    174\u001b[39m \u001b[43m    \u001b[49m\u001b[43m)\u001b[49m\n\u001b[32m    175\u001b[39m     \u001b[38;5;28mself\u001b[39m.commit(t, \u001b[38;5;28;01mNone\u001b[39;00m)\n\u001b[32m    176\u001b[39m \u001b[38;5;28;01mexcept\u001b[39;00m \u001b[38;5;167;01mException\u001b[39;00m \u001b[38;5;28;01mas\u001b[39;00m exc:\n",
      "\u001b[36mFile \u001b[39m\u001b[32mc:\\Users\\Anilchoudary R\\Gitrepos\\langgraph_playground\\langgraph_env\\Lib\\site-packages\\langgraph\\pregel\\retry.py:40\u001b[39m, in \u001b[36mrun_with_retry\u001b[39m\u001b[34m(task, retry_policy, configurable)\u001b[39m\n\u001b[32m     38\u001b[39m     task.writes.clear()\n\u001b[32m     39\u001b[39m     \u001b[38;5;66;03m# run the task\u001b[39;00m\n\u001b[32m---> \u001b[39m\u001b[32m40\u001b[39m     \u001b[38;5;28;01mreturn\u001b[39;00m \u001b[43mtask\u001b[49m\u001b[43m.\u001b[49m\u001b[43mproc\u001b[49m\u001b[43m.\u001b[49m\u001b[43minvoke\u001b[49m\u001b[43m(\u001b[49m\u001b[43mtask\u001b[49m\u001b[43m.\u001b[49m\u001b[43minput\u001b[49m\u001b[43m,\u001b[49m\u001b[43m \u001b[49m\u001b[43mconfig\u001b[49m\u001b[43m)\u001b[49m\n\u001b[32m     41\u001b[39m \u001b[38;5;28;01mexcept\u001b[39;00m ParentCommand \u001b[38;5;28;01mas\u001b[39;00m exc:\n\u001b[32m     42\u001b[39m     ns: \u001b[38;5;28mstr\u001b[39m = config[CONF][CONFIG_KEY_CHECKPOINT_NS]\n",
      "\u001b[36mFile \u001b[39m\u001b[32mc:\\Users\\Anilchoudary R\\Gitrepos\\langgraph_playground\\langgraph_env\\Lib\\site-packages\\langgraph\\utils\\runnable.py:625\u001b[39m, in \u001b[36mRunnableSeq.invoke\u001b[39m\u001b[34m(self, input, config, **kwargs)\u001b[39m\n\u001b[32m    623\u001b[39m                 \u001b[38;5;28minput\u001b[39m = context.run(step.invoke, \u001b[38;5;28minput\u001b[39m, config, **kwargs)\n\u001b[32m    624\u001b[39m         \u001b[38;5;28;01melse\u001b[39;00m:\n\u001b[32m--> \u001b[39m\u001b[32m625\u001b[39m             \u001b[38;5;28minput\u001b[39m = \u001b[43mstep\u001b[49m\u001b[43m.\u001b[49m\u001b[43minvoke\u001b[49m\u001b[43m(\u001b[49m\u001b[38;5;28;43minput\u001b[39;49m\u001b[43m,\u001b[49m\u001b[43m \u001b[49m\u001b[43mconfig\u001b[49m\u001b[43m)\u001b[49m\n\u001b[32m    626\u001b[39m \u001b[38;5;66;03m# finish the root run\u001b[39;00m\n\u001b[32m    627\u001b[39m \u001b[38;5;28;01mexcept\u001b[39;00m \u001b[38;5;167;01mBaseException\u001b[39;00m \u001b[38;5;28;01mas\u001b[39;00m e:\n",
      "\u001b[36mFile \u001b[39m\u001b[32mc:\\Users\\Anilchoudary R\\Gitrepos\\langgraph_playground\\langgraph_env\\Lib\\site-packages\\langgraph\\utils\\runnable.py:377\u001b[39m, in \u001b[36mRunnableCallable.invoke\u001b[39m\u001b[34m(self, input, config, **kwargs)\u001b[39m\n\u001b[32m    375\u001b[39m         run_manager.on_chain_end(ret)\n\u001b[32m    376\u001b[39m \u001b[38;5;28;01melse\u001b[39;00m:\n\u001b[32m--> \u001b[39m\u001b[32m377\u001b[39m     ret = \u001b[38;5;28;43mself\u001b[39;49m\u001b[43m.\u001b[49m\u001b[43mfunc\u001b[49m\u001b[43m(\u001b[49m\u001b[43m*\u001b[49m\u001b[43margs\u001b[49m\u001b[43m,\u001b[49m\u001b[43m \u001b[49m\u001b[43m*\u001b[49m\u001b[43m*\u001b[49m\u001b[43mkwargs\u001b[49m\u001b[43m)\u001b[49m\n\u001b[32m    378\u001b[39m \u001b[38;5;28;01mif\u001b[39;00m \u001b[38;5;28mself\u001b[39m.recurse \u001b[38;5;129;01mand\u001b[39;00m \u001b[38;5;28misinstance\u001b[39m(ret, Runnable):\n\u001b[32m    379\u001b[39m     \u001b[38;5;28;01mreturn\u001b[39;00m ret.invoke(\u001b[38;5;28minput\u001b[39m, config)\n",
      "\u001b[36mFile \u001b[39m\u001b[32mc:\\Users\\Anilchoudary R\\Gitrepos\\langgraph_playground\\langgraph_env\\Lib\\site-packages\\langgraph\\graph\\branch.py:174\u001b[39m, in \u001b[36mBranch._route\u001b[39m\u001b[34m(self, input, config, reader, writer)\u001b[39m\n\u001b[32m    172\u001b[39m     value = \u001b[38;5;28minput\u001b[39m\n\u001b[32m    173\u001b[39m result = \u001b[38;5;28mself\u001b[39m.path.invoke(value, config)\n\u001b[32m--> \u001b[39m\u001b[32m174\u001b[39m \u001b[38;5;28;01mreturn\u001b[39;00m \u001b[38;5;28;43mself\u001b[39;49m\u001b[43m.\u001b[49m\u001b[43m_finish\u001b[49m\u001b[43m(\u001b[49m\u001b[43mwriter\u001b[49m\u001b[43m,\u001b[49m\u001b[43m \u001b[49m\u001b[38;5;28;43minput\u001b[39;49m\u001b[43m,\u001b[49m\u001b[43m \u001b[49m\u001b[43mresult\u001b[49m\u001b[43m,\u001b[49m\u001b[43m \u001b[49m\u001b[43mconfig\u001b[49m\u001b[43m)\u001b[49m\n",
      "\u001b[36mFile \u001b[39m\u001b[32mc:\\Users\\Anilchoudary R\\Gitrepos\\langgraph_playground\\langgraph_env\\Lib\\site-packages\\langgraph\\graph\\branch.py:210\u001b[39m, in \u001b[36mBranch._finish\u001b[39m\u001b[34m(self, writer, input, result, config)\u001b[39m\n\u001b[32m    207\u001b[39m     result = [result]\n\u001b[32m    208\u001b[39m \u001b[38;5;28;01mif\u001b[39;00m \u001b[38;5;28mself\u001b[39m.ends:\n\u001b[32m    209\u001b[39m     destinations: Sequence[Union[Send, \u001b[38;5;28mstr\u001b[39m]] = [\n\u001b[32m--> \u001b[39m\u001b[32m210\u001b[39m         r \u001b[38;5;28;01mif\u001b[39;00m \u001b[38;5;28misinstance\u001b[39m(r, Send) \u001b[38;5;28;01melse\u001b[39;00m \u001b[38;5;28;43mself\u001b[39;49m\u001b[43m.\u001b[49m\u001b[43mends\u001b[49m\u001b[43m[\u001b[49m\u001b[43mr\u001b[49m\u001b[43m]\u001b[49m \u001b[38;5;28;01mfor\u001b[39;00m r \u001b[38;5;129;01min\u001b[39;00m result\n\u001b[32m    211\u001b[39m     ]\n\u001b[32m    212\u001b[39m \u001b[38;5;28;01melse\u001b[39;00m:\n\u001b[32m    213\u001b[39m     destinations = cast(Sequence[Union[Send, \u001b[38;5;28mstr\u001b[39m]], result)\n",
      "\u001b[31mKeyError\u001b[39m: None",
      "During task with name 'Supervisor' and id '4aca7d71-3af4-1e25-3a84-b6246e93c313'"
     ]
    }
   ],
   "source": [
    "app.invoke(state)"
   ]
  },
  {
   "cell_type": "code",
   "execution_count": null,
   "id": "f06ecded",
   "metadata": {},
   "outputs": [],
   "source": []
  },
  {
   "cell_type": "code",
   "execution_count": null,
   "id": "4a5d9854",
   "metadata": {},
   "outputs": [],
   "source": []
  },
  {
   "cell_type": "code",
   "execution_count": null,
   "id": "7d492b02",
   "metadata": {},
   "outputs": [],
   "source": []
  }
 ],
 "metadata": {
  "kernelspec": {
   "display_name": "langgraph_env",
   "language": "python",
   "name": "python3"
  },
  "language_info": {
   "codemirror_mode": {
    "name": "ipython",
    "version": 3
   },
   "file_extension": ".py",
   "mimetype": "text/x-python",
   "name": "python",
   "nbconvert_exporter": "python",
   "pygments_lexer": "ipython3",
   "version": "3.13.2"
  }
 },
 "nbformat": 4,
 "nbformat_minor": 5
}
